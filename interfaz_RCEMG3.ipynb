{
 "cells": [
  {
   "cell_type": "code",
   "execution_count": 3,
   "id": "452c74d5",
   "metadata": {},
   "outputs": [],
   "source": [
    "import serial as sr\n",
    "import matplotlib.pyplot as plt\n",
    "import numpy as np\n",
    "import csv\n",
    "import time\n",
    "import sys\n",
    "from PyQt5 import uic    #agregar libreria de PyQt5 \n",
    "from PyQt5.QtWidgets import QMainWindow,QApplication,QLabel\n",
    "from PyQt5 import QtWidgets, QtCore\n",
    "import pyqtgraph as pg\n",
    "from PyQt5.QtWidgets import QLCDNumber"
   ]
  },
  {
   "cell_type": "code",
   "execution_count": 29,
   "id": "9ad2c339",
   "metadata": {},
   "outputs": [],
   "source": [
    "s.close()"
   ]
  },
  {
   "cell_type": "code",
   "execution_count": 30,
   "id": "a3cf718e",
   "metadata": {},
   "outputs": [],
   "source": [
    "s = sr.Serial('COM18', 115200)\n",
    "LB = []\n",
    "RB = []\n",
    "LT = []\n",
    "RT = []\n",
    "for i in range(10):\n",
    "    txtArduino = s.readline().decode('ascii')\n",
    "    datos = txtArduino.split(\";\")\n",
    "    RB.append(float(datos[0]))\n",
    "    RT.append(float(datos[1]))\n",
    "    LB.append(float(datos[2]))\n",
    "    LT.append(float(datos[3]))\n",
    "   "
   ]
  },
  {
   "cell_type": "code",
   "execution_count": null,
   "id": "89c8130f",
   "metadata": {},
   "outputs": [
    {
     "ename": "AttributeError",
     "evalue": "'grafico' object has no attribute 'grabando'",
     "output_type": "error",
     "traceback": [
      "\u001b[1;31m---------------------------------------------------------------------------\u001b[0m",
      "\u001b[1;31mAttributeError\u001b[0m                            Traceback (most recent call last)",
      "Cell \u001b[1;32mIn[31], line 90\u001b[0m, in \u001b[0;36mgrafico.update_base\u001b[1;34m(self)\u001b[0m\n\u001b[0;32m     89\u001b[0m \u001b[38;5;28;01mdef\u001b[39;00m \u001b[38;5;21mupdate_base\u001b[39m(\u001b[38;5;28mself\u001b[39m): \u001b[38;5;66;03m#temperatura,potencia,velocidad\u001b[39;00m\n\u001b[1;32m---> 90\u001b[0m     \u001b[38;5;28;01mif\u001b[39;00m \u001b[38;5;28;43mself\u001b[39;49m\u001b[38;5;241;43m.\u001b[39;49m\u001b[43mgrabando\u001b[49m \u001b[38;5;241m==\u001b[39m \u001b[38;5;28;01mTrue\u001b[39;00m:\n\u001b[0;32m     91\u001b[0m         txtArduino \u001b[38;5;241m=\u001b[39m s\u001b[38;5;241m.\u001b[39mreadline()\u001b[38;5;241m.\u001b[39mdecode(\u001b[38;5;124m'\u001b[39m\u001b[38;5;124mascii\u001b[39m\u001b[38;5;124m'\u001b[39m)\n\u001b[0;32m     92\u001b[0m         datos \u001b[38;5;241m=\u001b[39m txtArduino\u001b[38;5;241m.\u001b[39msplit(\u001b[38;5;124m\"\u001b[39m\u001b[38;5;124m;\u001b[39m\u001b[38;5;124m\"\u001b[39m)\n",
      "\u001b[1;31mAttributeError\u001b[0m: 'grafico' object has no attribute 'grabando'"
     ]
    },
    {
     "ename": "AttributeError",
     "evalue": "'grafico' object has no attribute 'grabando'",
     "output_type": "error",
     "traceback": [
      "\u001b[1;31m---------------------------------------------------------------------------\u001b[0m",
      "\u001b[1;31mAttributeError\u001b[0m                            Traceback (most recent call last)",
      "Cell \u001b[1;32mIn[31], line 90\u001b[0m, in \u001b[0;36mgrafico.update_base\u001b[1;34m(self)\u001b[0m\n\u001b[0;32m     89\u001b[0m \u001b[38;5;28;01mdef\u001b[39;00m \u001b[38;5;21mupdate_base\u001b[39m(\u001b[38;5;28mself\u001b[39m): \u001b[38;5;66;03m#temperatura,potencia,velocidad\u001b[39;00m\n\u001b[1;32m---> 90\u001b[0m     \u001b[38;5;28;01mif\u001b[39;00m \u001b[38;5;28;43mself\u001b[39;49m\u001b[38;5;241;43m.\u001b[39;49m\u001b[43mgrabando\u001b[49m \u001b[38;5;241m==\u001b[39m \u001b[38;5;28;01mTrue\u001b[39;00m:\n\u001b[0;32m     91\u001b[0m         txtArduino \u001b[38;5;241m=\u001b[39m s\u001b[38;5;241m.\u001b[39mreadline()\u001b[38;5;241m.\u001b[39mdecode(\u001b[38;5;124m'\u001b[39m\u001b[38;5;124mascii\u001b[39m\u001b[38;5;124m'\u001b[39m)\n\u001b[0;32m     92\u001b[0m         datos \u001b[38;5;241m=\u001b[39m txtArduino\u001b[38;5;241m.\u001b[39msplit(\u001b[38;5;124m\"\u001b[39m\u001b[38;5;124m;\u001b[39m\u001b[38;5;124m\"\u001b[39m)\n",
      "\u001b[1;31mAttributeError\u001b[0m: 'grafico' object has no attribute 'grabando'"
     ]
    },
    {
     "ename": "AttributeError",
     "evalue": "'grafico' object has no attribute 'grabando'",
     "output_type": "error",
     "traceback": [
      "\u001b[1;31m---------------------------------------------------------------------------\u001b[0m",
      "\u001b[1;31mAttributeError\u001b[0m                            Traceback (most recent call last)",
      "Cell \u001b[1;32mIn[31], line 90\u001b[0m, in \u001b[0;36mgrafico.update_base\u001b[1;34m(self)\u001b[0m\n\u001b[0;32m     89\u001b[0m \u001b[38;5;28;01mdef\u001b[39;00m \u001b[38;5;21mupdate_base\u001b[39m(\u001b[38;5;28mself\u001b[39m): \u001b[38;5;66;03m#temperatura,potencia,velocidad\u001b[39;00m\n\u001b[1;32m---> 90\u001b[0m     \u001b[38;5;28;01mif\u001b[39;00m \u001b[38;5;28;43mself\u001b[39;49m\u001b[38;5;241;43m.\u001b[39;49m\u001b[43mgrabando\u001b[49m \u001b[38;5;241m==\u001b[39m \u001b[38;5;28;01mTrue\u001b[39;00m:\n\u001b[0;32m     91\u001b[0m         txtArduino \u001b[38;5;241m=\u001b[39m s\u001b[38;5;241m.\u001b[39mreadline()\u001b[38;5;241m.\u001b[39mdecode(\u001b[38;5;124m'\u001b[39m\u001b[38;5;124mascii\u001b[39m\u001b[38;5;124m'\u001b[39m)\n\u001b[0;32m     92\u001b[0m         datos \u001b[38;5;241m=\u001b[39m txtArduino\u001b[38;5;241m.\u001b[39msplit(\u001b[38;5;124m\"\u001b[39m\u001b[38;5;124m;\u001b[39m\u001b[38;5;124m\"\u001b[39m)\n",
      "\u001b[1;31mAttributeError\u001b[0m: 'grafico' object has no attribute 'grabando'"
     ]
    },
    {
     "ename": "AttributeError",
     "evalue": "'grafico' object has no attribute 'grabando'",
     "output_type": "error",
     "traceback": [
      "\u001b[1;31m---------------------------------------------------------------------------\u001b[0m",
      "\u001b[1;31mAttributeError\u001b[0m                            Traceback (most recent call last)",
      "Cell \u001b[1;32mIn[31], line 90\u001b[0m, in \u001b[0;36mgrafico.update_base\u001b[1;34m(self)\u001b[0m\n\u001b[0;32m     89\u001b[0m \u001b[38;5;28;01mdef\u001b[39;00m \u001b[38;5;21mupdate_base\u001b[39m(\u001b[38;5;28mself\u001b[39m): \u001b[38;5;66;03m#temperatura,potencia,velocidad\u001b[39;00m\n\u001b[1;32m---> 90\u001b[0m     \u001b[38;5;28;01mif\u001b[39;00m \u001b[38;5;28;43mself\u001b[39;49m\u001b[38;5;241;43m.\u001b[39;49m\u001b[43mgrabando\u001b[49m \u001b[38;5;241m==\u001b[39m \u001b[38;5;28;01mTrue\u001b[39;00m:\n\u001b[0;32m     91\u001b[0m         txtArduino \u001b[38;5;241m=\u001b[39m s\u001b[38;5;241m.\u001b[39mreadline()\u001b[38;5;241m.\u001b[39mdecode(\u001b[38;5;124m'\u001b[39m\u001b[38;5;124mascii\u001b[39m\u001b[38;5;124m'\u001b[39m)\n\u001b[0;32m     92\u001b[0m         datos \u001b[38;5;241m=\u001b[39m txtArduino\u001b[38;5;241m.\u001b[39msplit(\u001b[38;5;124m\"\u001b[39m\u001b[38;5;124m;\u001b[39m\u001b[38;5;124m\"\u001b[39m)\n",
      "\u001b[1;31mAttributeError\u001b[0m: 'grafico' object has no attribute 'grabando'"
     ]
    },
    {
     "ename": "AttributeError",
     "evalue": "'grafico' object has no attribute 'grabando'",
     "output_type": "error",
     "traceback": [
      "\u001b[1;31m---------------------------------------------------------------------------\u001b[0m",
      "\u001b[1;31mAttributeError\u001b[0m                            Traceback (most recent call last)",
      "Cell \u001b[1;32mIn[31], line 90\u001b[0m, in \u001b[0;36mgrafico.update_base\u001b[1;34m(self)\u001b[0m\n\u001b[0;32m     89\u001b[0m \u001b[38;5;28;01mdef\u001b[39;00m \u001b[38;5;21mupdate_base\u001b[39m(\u001b[38;5;28mself\u001b[39m): \u001b[38;5;66;03m#temperatura,potencia,velocidad\u001b[39;00m\n\u001b[1;32m---> 90\u001b[0m     \u001b[38;5;28;01mif\u001b[39;00m \u001b[38;5;28;43mself\u001b[39;49m\u001b[38;5;241;43m.\u001b[39;49m\u001b[43mgrabando\u001b[49m \u001b[38;5;241m==\u001b[39m \u001b[38;5;28;01mTrue\u001b[39;00m:\n\u001b[0;32m     91\u001b[0m         txtArduino \u001b[38;5;241m=\u001b[39m s\u001b[38;5;241m.\u001b[39mreadline()\u001b[38;5;241m.\u001b[39mdecode(\u001b[38;5;124m'\u001b[39m\u001b[38;5;124mascii\u001b[39m\u001b[38;5;124m'\u001b[39m)\n\u001b[0;32m     92\u001b[0m         datos \u001b[38;5;241m=\u001b[39m txtArduino\u001b[38;5;241m.\u001b[39msplit(\u001b[38;5;124m\"\u001b[39m\u001b[38;5;124m;\u001b[39m\u001b[38;5;124m\"\u001b[39m)\n",
      "\u001b[1;31mAttributeError\u001b[0m: 'grafico' object has no attribute 'grabando'"
     ]
    },
    {
     "ename": "AttributeError",
     "evalue": "'grafico' object has no attribute 'grabando'",
     "output_type": "error",
     "traceback": [
      "\u001b[1;31m---------------------------------------------------------------------------\u001b[0m",
      "\u001b[1;31mAttributeError\u001b[0m                            Traceback (most recent call last)",
      "Cell \u001b[1;32mIn[31], line 90\u001b[0m, in \u001b[0;36mgrafico.update_base\u001b[1;34m(self)\u001b[0m\n\u001b[0;32m     89\u001b[0m \u001b[38;5;28;01mdef\u001b[39;00m \u001b[38;5;21mupdate_base\u001b[39m(\u001b[38;5;28mself\u001b[39m): \u001b[38;5;66;03m#temperatura,potencia,velocidad\u001b[39;00m\n\u001b[1;32m---> 90\u001b[0m     \u001b[38;5;28;01mif\u001b[39;00m \u001b[38;5;28;43mself\u001b[39;49m\u001b[38;5;241;43m.\u001b[39;49m\u001b[43mgrabando\u001b[49m \u001b[38;5;241m==\u001b[39m \u001b[38;5;28;01mTrue\u001b[39;00m:\n\u001b[0;32m     91\u001b[0m         txtArduino \u001b[38;5;241m=\u001b[39m s\u001b[38;5;241m.\u001b[39mreadline()\u001b[38;5;241m.\u001b[39mdecode(\u001b[38;5;124m'\u001b[39m\u001b[38;5;124mascii\u001b[39m\u001b[38;5;124m'\u001b[39m)\n\u001b[0;32m     92\u001b[0m         datos \u001b[38;5;241m=\u001b[39m txtArduino\u001b[38;5;241m.\u001b[39msplit(\u001b[38;5;124m\"\u001b[39m\u001b[38;5;124m;\u001b[39m\u001b[38;5;124m\"\u001b[39m)\n",
      "\u001b[1;31mAttributeError\u001b[0m: 'grafico' object has no attribute 'grabando'"
     ]
    },
    {
     "ename": "AttributeError",
     "evalue": "'grafico' object has no attribute 'grabando'",
     "output_type": "error",
     "traceback": [
      "\u001b[1;31m---------------------------------------------------------------------------\u001b[0m",
      "\u001b[1;31mAttributeError\u001b[0m                            Traceback (most recent call last)",
      "Cell \u001b[1;32mIn[31], line 90\u001b[0m, in \u001b[0;36mgrafico.update_base\u001b[1;34m(self)\u001b[0m\n\u001b[0;32m     89\u001b[0m \u001b[38;5;28;01mdef\u001b[39;00m \u001b[38;5;21mupdate_base\u001b[39m(\u001b[38;5;28mself\u001b[39m): \u001b[38;5;66;03m#temperatura,potencia,velocidad\u001b[39;00m\n\u001b[1;32m---> 90\u001b[0m     \u001b[38;5;28;01mif\u001b[39;00m \u001b[38;5;28;43mself\u001b[39;49m\u001b[38;5;241;43m.\u001b[39;49m\u001b[43mgrabando\u001b[49m \u001b[38;5;241m==\u001b[39m \u001b[38;5;28;01mTrue\u001b[39;00m:\n\u001b[0;32m     91\u001b[0m         txtArduino \u001b[38;5;241m=\u001b[39m s\u001b[38;5;241m.\u001b[39mreadline()\u001b[38;5;241m.\u001b[39mdecode(\u001b[38;5;124m'\u001b[39m\u001b[38;5;124mascii\u001b[39m\u001b[38;5;124m'\u001b[39m)\n\u001b[0;32m     92\u001b[0m         datos \u001b[38;5;241m=\u001b[39m txtArduino\u001b[38;5;241m.\u001b[39msplit(\u001b[38;5;124m\"\u001b[39m\u001b[38;5;124m;\u001b[39m\u001b[38;5;124m\"\u001b[39m)\n",
      "\u001b[1;31mAttributeError\u001b[0m: 'grafico' object has no attribute 'grabando'"
     ]
    },
    {
     "ename": "AttributeError",
     "evalue": "'grafico' object has no attribute 'grabando'",
     "output_type": "error",
     "traceback": [
      "\u001b[1;31m---------------------------------------------------------------------------\u001b[0m",
      "\u001b[1;31mAttributeError\u001b[0m                            Traceback (most recent call last)",
      "Cell \u001b[1;32mIn[31], line 90\u001b[0m, in \u001b[0;36mgrafico.update_base\u001b[1;34m(self)\u001b[0m\n\u001b[0;32m     89\u001b[0m \u001b[38;5;28;01mdef\u001b[39;00m \u001b[38;5;21mupdate_base\u001b[39m(\u001b[38;5;28mself\u001b[39m): \u001b[38;5;66;03m#temperatura,potencia,velocidad\u001b[39;00m\n\u001b[1;32m---> 90\u001b[0m     \u001b[38;5;28;01mif\u001b[39;00m \u001b[38;5;28;43mself\u001b[39;49m\u001b[38;5;241;43m.\u001b[39;49m\u001b[43mgrabando\u001b[49m \u001b[38;5;241m==\u001b[39m \u001b[38;5;28;01mTrue\u001b[39;00m:\n\u001b[0;32m     91\u001b[0m         txtArduino \u001b[38;5;241m=\u001b[39m s\u001b[38;5;241m.\u001b[39mreadline()\u001b[38;5;241m.\u001b[39mdecode(\u001b[38;5;124m'\u001b[39m\u001b[38;5;124mascii\u001b[39m\u001b[38;5;124m'\u001b[39m)\n\u001b[0;32m     92\u001b[0m         datos \u001b[38;5;241m=\u001b[39m txtArduino\u001b[38;5;241m.\u001b[39msplit(\u001b[38;5;124m\"\u001b[39m\u001b[38;5;124m;\u001b[39m\u001b[38;5;124m\"\u001b[39m)\n",
      "\u001b[1;31mAttributeError\u001b[0m: 'grafico' object has no attribute 'grabando'"
     ]
    },
    {
     "ename": "AttributeError",
     "evalue": "'grafico' object has no attribute 'grabando'",
     "output_type": "error",
     "traceback": [
      "\u001b[1;31m---------------------------------------------------------------------------\u001b[0m",
      "\u001b[1;31mAttributeError\u001b[0m                            Traceback (most recent call last)",
      "Cell \u001b[1;32mIn[31], line 90\u001b[0m, in \u001b[0;36mgrafico.update_base\u001b[1;34m(self)\u001b[0m\n\u001b[0;32m     89\u001b[0m \u001b[38;5;28;01mdef\u001b[39;00m \u001b[38;5;21mupdate_base\u001b[39m(\u001b[38;5;28mself\u001b[39m): \u001b[38;5;66;03m#temperatura,potencia,velocidad\u001b[39;00m\n\u001b[1;32m---> 90\u001b[0m     \u001b[38;5;28;01mif\u001b[39;00m \u001b[38;5;28;43mself\u001b[39;49m\u001b[38;5;241;43m.\u001b[39;49m\u001b[43mgrabando\u001b[49m \u001b[38;5;241m==\u001b[39m \u001b[38;5;28;01mTrue\u001b[39;00m:\n\u001b[0;32m     91\u001b[0m         txtArduino \u001b[38;5;241m=\u001b[39m s\u001b[38;5;241m.\u001b[39mreadline()\u001b[38;5;241m.\u001b[39mdecode(\u001b[38;5;124m'\u001b[39m\u001b[38;5;124mascii\u001b[39m\u001b[38;5;124m'\u001b[39m)\n\u001b[0;32m     92\u001b[0m         datos \u001b[38;5;241m=\u001b[39m txtArduino\u001b[38;5;241m.\u001b[39msplit(\u001b[38;5;124m\"\u001b[39m\u001b[38;5;124m;\u001b[39m\u001b[38;5;124m\"\u001b[39m)\n",
      "\u001b[1;31mAttributeError\u001b[0m: 'grafico' object has no attribute 'grabando'"
     ]
    },
    {
     "ename": "AttributeError",
     "evalue": "'grafico' object has no attribute 'grabando'",
     "output_type": "error",
     "traceback": [
      "\u001b[1;31m---------------------------------------------------------------------------\u001b[0m",
      "\u001b[1;31mAttributeError\u001b[0m                            Traceback (most recent call last)",
      "Cell \u001b[1;32mIn[31], line 90\u001b[0m, in \u001b[0;36mgrafico.update_base\u001b[1;34m(self)\u001b[0m\n\u001b[0;32m     89\u001b[0m \u001b[38;5;28;01mdef\u001b[39;00m \u001b[38;5;21mupdate_base\u001b[39m(\u001b[38;5;28mself\u001b[39m): \u001b[38;5;66;03m#temperatura,potencia,velocidad\u001b[39;00m\n\u001b[1;32m---> 90\u001b[0m     \u001b[38;5;28;01mif\u001b[39;00m \u001b[38;5;28;43mself\u001b[39;49m\u001b[38;5;241;43m.\u001b[39;49m\u001b[43mgrabando\u001b[49m \u001b[38;5;241m==\u001b[39m \u001b[38;5;28;01mTrue\u001b[39;00m:\n\u001b[0;32m     91\u001b[0m         txtArduino \u001b[38;5;241m=\u001b[39m s\u001b[38;5;241m.\u001b[39mreadline()\u001b[38;5;241m.\u001b[39mdecode(\u001b[38;5;124m'\u001b[39m\u001b[38;5;124mascii\u001b[39m\u001b[38;5;124m'\u001b[39m)\n\u001b[0;32m     92\u001b[0m         datos \u001b[38;5;241m=\u001b[39m txtArduino\u001b[38;5;241m.\u001b[39msplit(\u001b[38;5;124m\"\u001b[39m\u001b[38;5;124m;\u001b[39m\u001b[38;5;124m\"\u001b[39m)\n",
      "\u001b[1;31mAttributeError\u001b[0m: 'grafico' object has no attribute 'grabando'"
     ]
    },
    {
     "ename": "AttributeError",
     "evalue": "'grafico' object has no attribute 'grabando'",
     "output_type": "error",
     "traceback": [
      "\u001b[1;31m---------------------------------------------------------------------------\u001b[0m",
      "\u001b[1;31mAttributeError\u001b[0m                            Traceback (most recent call last)",
      "Cell \u001b[1;32mIn[31], line 90\u001b[0m, in \u001b[0;36mgrafico.update_base\u001b[1;34m(self)\u001b[0m\n\u001b[0;32m     89\u001b[0m \u001b[38;5;28;01mdef\u001b[39;00m \u001b[38;5;21mupdate_base\u001b[39m(\u001b[38;5;28mself\u001b[39m): \u001b[38;5;66;03m#temperatura,potencia,velocidad\u001b[39;00m\n\u001b[1;32m---> 90\u001b[0m     \u001b[38;5;28;01mif\u001b[39;00m \u001b[38;5;28;43mself\u001b[39;49m\u001b[38;5;241;43m.\u001b[39;49m\u001b[43mgrabando\u001b[49m \u001b[38;5;241m==\u001b[39m \u001b[38;5;28;01mTrue\u001b[39;00m:\n\u001b[0;32m     91\u001b[0m         txtArduino \u001b[38;5;241m=\u001b[39m s\u001b[38;5;241m.\u001b[39mreadline()\u001b[38;5;241m.\u001b[39mdecode(\u001b[38;5;124m'\u001b[39m\u001b[38;5;124mascii\u001b[39m\u001b[38;5;124m'\u001b[39m)\n\u001b[0;32m     92\u001b[0m         datos \u001b[38;5;241m=\u001b[39m txtArduino\u001b[38;5;241m.\u001b[39msplit(\u001b[38;5;124m\"\u001b[39m\u001b[38;5;124m;\u001b[39m\u001b[38;5;124m\"\u001b[39m)\n",
      "\u001b[1;31mAttributeError\u001b[0m: 'grafico' object has no attribute 'grabando'"
     ]
    },
    {
     "ename": "AttributeError",
     "evalue": "'grafico' object has no attribute 'grabando'",
     "output_type": "error",
     "traceback": [
      "\u001b[1;31m---------------------------------------------------------------------------\u001b[0m",
      "\u001b[1;31mAttributeError\u001b[0m                            Traceback (most recent call last)",
      "Cell \u001b[1;32mIn[31], line 90\u001b[0m, in \u001b[0;36mgrafico.update_base\u001b[1;34m(self)\u001b[0m\n\u001b[0;32m     89\u001b[0m \u001b[38;5;28;01mdef\u001b[39;00m \u001b[38;5;21mupdate_base\u001b[39m(\u001b[38;5;28mself\u001b[39m): \u001b[38;5;66;03m#temperatura,potencia,velocidad\u001b[39;00m\n\u001b[1;32m---> 90\u001b[0m     \u001b[38;5;28;01mif\u001b[39;00m \u001b[38;5;28;43mself\u001b[39;49m\u001b[38;5;241;43m.\u001b[39;49m\u001b[43mgrabando\u001b[49m \u001b[38;5;241m==\u001b[39m \u001b[38;5;28;01mTrue\u001b[39;00m:\n\u001b[0;32m     91\u001b[0m         txtArduino \u001b[38;5;241m=\u001b[39m s\u001b[38;5;241m.\u001b[39mreadline()\u001b[38;5;241m.\u001b[39mdecode(\u001b[38;5;124m'\u001b[39m\u001b[38;5;124mascii\u001b[39m\u001b[38;5;124m'\u001b[39m)\n\u001b[0;32m     92\u001b[0m         datos \u001b[38;5;241m=\u001b[39m txtArduino\u001b[38;5;241m.\u001b[39msplit(\u001b[38;5;124m\"\u001b[39m\u001b[38;5;124m;\u001b[39m\u001b[38;5;124m\"\u001b[39m)\n",
      "\u001b[1;31mAttributeError\u001b[0m: 'grafico' object has no attribute 'grabando'"
     ]
    },
    {
     "ename": "AttributeError",
     "evalue": "'grafico' object has no attribute 'grabando'",
     "output_type": "error",
     "traceback": [
      "\u001b[1;31m---------------------------------------------------------------------------\u001b[0m",
      "\u001b[1;31mAttributeError\u001b[0m                            Traceback (most recent call last)",
      "Cell \u001b[1;32mIn[31], line 90\u001b[0m, in \u001b[0;36mgrafico.update_base\u001b[1;34m(self)\u001b[0m\n\u001b[0;32m     89\u001b[0m \u001b[38;5;28;01mdef\u001b[39;00m \u001b[38;5;21mupdate_base\u001b[39m(\u001b[38;5;28mself\u001b[39m): \u001b[38;5;66;03m#temperatura,potencia,velocidad\u001b[39;00m\n\u001b[1;32m---> 90\u001b[0m     \u001b[38;5;28;01mif\u001b[39;00m \u001b[38;5;28;43mself\u001b[39;49m\u001b[38;5;241;43m.\u001b[39;49m\u001b[43mgrabando\u001b[49m \u001b[38;5;241m==\u001b[39m \u001b[38;5;28;01mTrue\u001b[39;00m:\n\u001b[0;32m     91\u001b[0m         txtArduino \u001b[38;5;241m=\u001b[39m s\u001b[38;5;241m.\u001b[39mreadline()\u001b[38;5;241m.\u001b[39mdecode(\u001b[38;5;124m'\u001b[39m\u001b[38;5;124mascii\u001b[39m\u001b[38;5;124m'\u001b[39m)\n\u001b[0;32m     92\u001b[0m         datos \u001b[38;5;241m=\u001b[39m txtArduino\u001b[38;5;241m.\u001b[39msplit(\u001b[38;5;124m\"\u001b[39m\u001b[38;5;124m;\u001b[39m\u001b[38;5;124m\"\u001b[39m)\n",
      "\u001b[1;31mAttributeError\u001b[0m: 'grafico' object has no attribute 'grabando'"
     ]
    },
    {
     "ename": "AttributeError",
     "evalue": "'grafico' object has no attribute 'grabando'",
     "output_type": "error",
     "traceback": [
      "\u001b[1;31m---------------------------------------------------------------------------\u001b[0m",
      "\u001b[1;31mAttributeError\u001b[0m                            Traceback (most recent call last)",
      "Cell \u001b[1;32mIn[31], line 90\u001b[0m, in \u001b[0;36mgrafico.update_base\u001b[1;34m(self)\u001b[0m\n\u001b[0;32m     89\u001b[0m \u001b[38;5;28;01mdef\u001b[39;00m \u001b[38;5;21mupdate_base\u001b[39m(\u001b[38;5;28mself\u001b[39m): \u001b[38;5;66;03m#temperatura,potencia,velocidad\u001b[39;00m\n\u001b[1;32m---> 90\u001b[0m     \u001b[38;5;28;01mif\u001b[39;00m \u001b[38;5;28;43mself\u001b[39;49m\u001b[38;5;241;43m.\u001b[39;49m\u001b[43mgrabando\u001b[49m \u001b[38;5;241m==\u001b[39m \u001b[38;5;28;01mTrue\u001b[39;00m:\n\u001b[0;32m     91\u001b[0m         txtArduino \u001b[38;5;241m=\u001b[39m s\u001b[38;5;241m.\u001b[39mreadline()\u001b[38;5;241m.\u001b[39mdecode(\u001b[38;5;124m'\u001b[39m\u001b[38;5;124mascii\u001b[39m\u001b[38;5;124m'\u001b[39m)\n\u001b[0;32m     92\u001b[0m         datos \u001b[38;5;241m=\u001b[39m txtArduino\u001b[38;5;241m.\u001b[39msplit(\u001b[38;5;124m\"\u001b[39m\u001b[38;5;124m;\u001b[39m\u001b[38;5;124m\"\u001b[39m)\n",
      "\u001b[1;31mAttributeError\u001b[0m: 'grafico' object has no attribute 'grabando'"
     ]
    },
    {
     "ename": "AttributeError",
     "evalue": "'grafico' object has no attribute 'grabando'",
     "output_type": "error",
     "traceback": [
      "\u001b[1;31m---------------------------------------------------------------------------\u001b[0m",
      "\u001b[1;31mAttributeError\u001b[0m                            Traceback (most recent call last)",
      "Cell \u001b[1;32mIn[31], line 90\u001b[0m, in \u001b[0;36mgrafico.update_base\u001b[1;34m(self)\u001b[0m\n\u001b[0;32m     89\u001b[0m \u001b[38;5;28;01mdef\u001b[39;00m \u001b[38;5;21mupdate_base\u001b[39m(\u001b[38;5;28mself\u001b[39m): \u001b[38;5;66;03m#temperatura,potencia,velocidad\u001b[39;00m\n\u001b[1;32m---> 90\u001b[0m     \u001b[38;5;28;01mif\u001b[39;00m \u001b[38;5;28;43mself\u001b[39;49m\u001b[38;5;241;43m.\u001b[39;49m\u001b[43mgrabando\u001b[49m \u001b[38;5;241m==\u001b[39m \u001b[38;5;28;01mTrue\u001b[39;00m:\n\u001b[0;32m     91\u001b[0m         txtArduino \u001b[38;5;241m=\u001b[39m s\u001b[38;5;241m.\u001b[39mreadline()\u001b[38;5;241m.\u001b[39mdecode(\u001b[38;5;124m'\u001b[39m\u001b[38;5;124mascii\u001b[39m\u001b[38;5;124m'\u001b[39m)\n\u001b[0;32m     92\u001b[0m         datos \u001b[38;5;241m=\u001b[39m txtArduino\u001b[38;5;241m.\u001b[39msplit(\u001b[38;5;124m\"\u001b[39m\u001b[38;5;124m;\u001b[39m\u001b[38;5;124m\"\u001b[39m)\n",
      "\u001b[1;31mAttributeError\u001b[0m: 'grafico' object has no attribute 'grabando'"
     ]
    },
    {
     "ename": "AttributeError",
     "evalue": "'grafico' object has no attribute 'grabando'",
     "output_type": "error",
     "traceback": [
      "\u001b[1;31m---------------------------------------------------------------------------\u001b[0m",
      "\u001b[1;31mAttributeError\u001b[0m                            Traceback (most recent call last)",
      "Cell \u001b[1;32mIn[31], line 90\u001b[0m, in \u001b[0;36mgrafico.update_base\u001b[1;34m(self)\u001b[0m\n\u001b[0;32m     89\u001b[0m \u001b[38;5;28;01mdef\u001b[39;00m \u001b[38;5;21mupdate_base\u001b[39m(\u001b[38;5;28mself\u001b[39m): \u001b[38;5;66;03m#temperatura,potencia,velocidad\u001b[39;00m\n\u001b[1;32m---> 90\u001b[0m     \u001b[38;5;28;01mif\u001b[39;00m \u001b[38;5;28;43mself\u001b[39;49m\u001b[38;5;241;43m.\u001b[39;49m\u001b[43mgrabando\u001b[49m \u001b[38;5;241m==\u001b[39m \u001b[38;5;28;01mTrue\u001b[39;00m:\n\u001b[0;32m     91\u001b[0m         txtArduino \u001b[38;5;241m=\u001b[39m s\u001b[38;5;241m.\u001b[39mreadline()\u001b[38;5;241m.\u001b[39mdecode(\u001b[38;5;124m'\u001b[39m\u001b[38;5;124mascii\u001b[39m\u001b[38;5;124m'\u001b[39m)\n\u001b[0;32m     92\u001b[0m         datos \u001b[38;5;241m=\u001b[39m txtArduino\u001b[38;5;241m.\u001b[39msplit(\u001b[38;5;124m\"\u001b[39m\u001b[38;5;124m;\u001b[39m\u001b[38;5;124m\"\u001b[39m)\n",
      "\u001b[1;31mAttributeError\u001b[0m: 'grafico' object has no attribute 'grabando'"
     ]
    },
    {
     "ename": "AttributeError",
     "evalue": "'grafico' object has no attribute 'grabando'",
     "output_type": "error",
     "traceback": [
      "\u001b[1;31m---------------------------------------------------------------------------\u001b[0m",
      "\u001b[1;31mAttributeError\u001b[0m                            Traceback (most recent call last)",
      "Cell \u001b[1;32mIn[31], line 90\u001b[0m, in \u001b[0;36mgrafico.update_base\u001b[1;34m(self)\u001b[0m\n\u001b[0;32m     89\u001b[0m \u001b[38;5;28;01mdef\u001b[39;00m \u001b[38;5;21mupdate_base\u001b[39m(\u001b[38;5;28mself\u001b[39m): \u001b[38;5;66;03m#temperatura,potencia,velocidad\u001b[39;00m\n\u001b[1;32m---> 90\u001b[0m     \u001b[38;5;28;01mif\u001b[39;00m \u001b[38;5;28;43mself\u001b[39;49m\u001b[38;5;241;43m.\u001b[39;49m\u001b[43mgrabando\u001b[49m \u001b[38;5;241m==\u001b[39m \u001b[38;5;28;01mTrue\u001b[39;00m:\n\u001b[0;32m     91\u001b[0m         txtArduino \u001b[38;5;241m=\u001b[39m s\u001b[38;5;241m.\u001b[39mreadline()\u001b[38;5;241m.\u001b[39mdecode(\u001b[38;5;124m'\u001b[39m\u001b[38;5;124mascii\u001b[39m\u001b[38;5;124m'\u001b[39m)\n\u001b[0;32m     92\u001b[0m         datos \u001b[38;5;241m=\u001b[39m txtArduino\u001b[38;5;241m.\u001b[39msplit(\u001b[38;5;124m\"\u001b[39m\u001b[38;5;124m;\u001b[39m\u001b[38;5;124m\"\u001b[39m)\n",
      "\u001b[1;31mAttributeError\u001b[0m: 'grafico' object has no attribute 'grabando'"
     ]
    },
    {
     "ename": "AttributeError",
     "evalue": "'grafico' object has no attribute 'grabando'",
     "output_type": "error",
     "traceback": [
      "\u001b[1;31m---------------------------------------------------------------------------\u001b[0m",
      "\u001b[1;31mAttributeError\u001b[0m                            Traceback (most recent call last)",
      "Cell \u001b[1;32mIn[31], line 90\u001b[0m, in \u001b[0;36mgrafico.update_base\u001b[1;34m(self)\u001b[0m\n\u001b[0;32m     89\u001b[0m \u001b[38;5;28;01mdef\u001b[39;00m \u001b[38;5;21mupdate_base\u001b[39m(\u001b[38;5;28mself\u001b[39m): \u001b[38;5;66;03m#temperatura,potencia,velocidad\u001b[39;00m\n\u001b[1;32m---> 90\u001b[0m     \u001b[38;5;28;01mif\u001b[39;00m \u001b[38;5;28;43mself\u001b[39;49m\u001b[38;5;241;43m.\u001b[39;49m\u001b[43mgrabando\u001b[49m \u001b[38;5;241m==\u001b[39m \u001b[38;5;28;01mTrue\u001b[39;00m:\n\u001b[0;32m     91\u001b[0m         txtArduino \u001b[38;5;241m=\u001b[39m s\u001b[38;5;241m.\u001b[39mreadline()\u001b[38;5;241m.\u001b[39mdecode(\u001b[38;5;124m'\u001b[39m\u001b[38;5;124mascii\u001b[39m\u001b[38;5;124m'\u001b[39m)\n\u001b[0;32m     92\u001b[0m         datos \u001b[38;5;241m=\u001b[39m txtArduino\u001b[38;5;241m.\u001b[39msplit(\u001b[38;5;124m\"\u001b[39m\u001b[38;5;124m;\u001b[39m\u001b[38;5;124m\"\u001b[39m)\n",
      "\u001b[1;31mAttributeError\u001b[0m: 'grafico' object has no attribute 'grabando'"
     ]
    },
    {
     "ename": "AttributeError",
     "evalue": "'grafico' object has no attribute 'grabando'",
     "output_type": "error",
     "traceback": [
      "\u001b[1;31m---------------------------------------------------------------------------\u001b[0m",
      "\u001b[1;31mAttributeError\u001b[0m                            Traceback (most recent call last)",
      "Cell \u001b[1;32mIn[31], line 90\u001b[0m, in \u001b[0;36mgrafico.update_base\u001b[1;34m(self)\u001b[0m\n\u001b[0;32m     89\u001b[0m \u001b[38;5;28;01mdef\u001b[39;00m \u001b[38;5;21mupdate_base\u001b[39m(\u001b[38;5;28mself\u001b[39m): \u001b[38;5;66;03m#temperatura,potencia,velocidad\u001b[39;00m\n\u001b[1;32m---> 90\u001b[0m     \u001b[38;5;28;01mif\u001b[39;00m \u001b[38;5;28;43mself\u001b[39;49m\u001b[38;5;241;43m.\u001b[39;49m\u001b[43mgrabando\u001b[49m \u001b[38;5;241m==\u001b[39m \u001b[38;5;28;01mTrue\u001b[39;00m:\n\u001b[0;32m     91\u001b[0m         txtArduino \u001b[38;5;241m=\u001b[39m s\u001b[38;5;241m.\u001b[39mreadline()\u001b[38;5;241m.\u001b[39mdecode(\u001b[38;5;124m'\u001b[39m\u001b[38;5;124mascii\u001b[39m\u001b[38;5;124m'\u001b[39m)\n\u001b[0;32m     92\u001b[0m         datos \u001b[38;5;241m=\u001b[39m txtArduino\u001b[38;5;241m.\u001b[39msplit(\u001b[38;5;124m\"\u001b[39m\u001b[38;5;124m;\u001b[39m\u001b[38;5;124m\"\u001b[39m)\n",
      "\u001b[1;31mAttributeError\u001b[0m: 'grafico' object has no attribute 'grabando'"
     ]
    },
    {
     "ename": "AttributeError",
     "evalue": "'grafico' object has no attribute 'grabando'",
     "output_type": "error",
     "traceback": [
      "\u001b[1;31m---------------------------------------------------------------------------\u001b[0m",
      "\u001b[1;31mAttributeError\u001b[0m                            Traceback (most recent call last)",
      "Cell \u001b[1;32mIn[31], line 90\u001b[0m, in \u001b[0;36mgrafico.update_base\u001b[1;34m(self)\u001b[0m\n\u001b[0;32m     89\u001b[0m \u001b[38;5;28;01mdef\u001b[39;00m \u001b[38;5;21mupdate_base\u001b[39m(\u001b[38;5;28mself\u001b[39m): \u001b[38;5;66;03m#temperatura,potencia,velocidad\u001b[39;00m\n\u001b[1;32m---> 90\u001b[0m     \u001b[38;5;28;01mif\u001b[39;00m \u001b[38;5;28;43mself\u001b[39;49m\u001b[38;5;241;43m.\u001b[39;49m\u001b[43mgrabando\u001b[49m \u001b[38;5;241m==\u001b[39m \u001b[38;5;28;01mTrue\u001b[39;00m:\n\u001b[0;32m     91\u001b[0m         txtArduino \u001b[38;5;241m=\u001b[39m s\u001b[38;5;241m.\u001b[39mreadline()\u001b[38;5;241m.\u001b[39mdecode(\u001b[38;5;124m'\u001b[39m\u001b[38;5;124mascii\u001b[39m\u001b[38;5;124m'\u001b[39m)\n\u001b[0;32m     92\u001b[0m         datos \u001b[38;5;241m=\u001b[39m txtArduino\u001b[38;5;241m.\u001b[39msplit(\u001b[38;5;124m\"\u001b[39m\u001b[38;5;124m;\u001b[39m\u001b[38;5;124m\"\u001b[39m)\n",
      "\u001b[1;31mAttributeError\u001b[0m: 'grafico' object has no attribute 'grabando'"
     ]
    },
    {
     "ename": "AttributeError",
     "evalue": "'grafico' object has no attribute 'grabando'",
     "output_type": "error",
     "traceback": [
      "\u001b[1;31m---------------------------------------------------------------------------\u001b[0m",
      "\u001b[1;31mAttributeError\u001b[0m                            Traceback (most recent call last)",
      "Cell \u001b[1;32mIn[31], line 90\u001b[0m, in \u001b[0;36mgrafico.update_base\u001b[1;34m(self)\u001b[0m\n\u001b[0;32m     89\u001b[0m \u001b[38;5;28;01mdef\u001b[39;00m \u001b[38;5;21mupdate_base\u001b[39m(\u001b[38;5;28mself\u001b[39m): \u001b[38;5;66;03m#temperatura,potencia,velocidad\u001b[39;00m\n\u001b[1;32m---> 90\u001b[0m     \u001b[38;5;28;01mif\u001b[39;00m \u001b[38;5;28;43mself\u001b[39;49m\u001b[38;5;241;43m.\u001b[39;49m\u001b[43mgrabando\u001b[49m \u001b[38;5;241m==\u001b[39m \u001b[38;5;28;01mTrue\u001b[39;00m:\n\u001b[0;32m     91\u001b[0m         txtArduino \u001b[38;5;241m=\u001b[39m s\u001b[38;5;241m.\u001b[39mreadline()\u001b[38;5;241m.\u001b[39mdecode(\u001b[38;5;124m'\u001b[39m\u001b[38;5;124mascii\u001b[39m\u001b[38;5;124m'\u001b[39m)\n\u001b[0;32m     92\u001b[0m         datos \u001b[38;5;241m=\u001b[39m txtArduino\u001b[38;5;241m.\u001b[39msplit(\u001b[38;5;124m\"\u001b[39m\u001b[38;5;124m;\u001b[39m\u001b[38;5;124m\"\u001b[39m)\n",
      "\u001b[1;31mAttributeError\u001b[0m: 'grafico' object has no attribute 'grabando'"
     ]
    },
    {
     "ename": "AttributeError",
     "evalue": "'grafico' object has no attribute 'grabando'",
     "output_type": "error",
     "traceback": [
      "\u001b[1;31m---------------------------------------------------------------------------\u001b[0m",
      "\u001b[1;31mAttributeError\u001b[0m                            Traceback (most recent call last)",
      "Cell \u001b[1;32mIn[31], line 90\u001b[0m, in \u001b[0;36mgrafico.update_base\u001b[1;34m(self)\u001b[0m\n\u001b[0;32m     89\u001b[0m \u001b[38;5;28;01mdef\u001b[39;00m \u001b[38;5;21mupdate_base\u001b[39m(\u001b[38;5;28mself\u001b[39m): \u001b[38;5;66;03m#temperatura,potencia,velocidad\u001b[39;00m\n\u001b[1;32m---> 90\u001b[0m     \u001b[38;5;28;01mif\u001b[39;00m \u001b[38;5;28;43mself\u001b[39;49m\u001b[38;5;241;43m.\u001b[39;49m\u001b[43mgrabando\u001b[49m \u001b[38;5;241m==\u001b[39m \u001b[38;5;28;01mTrue\u001b[39;00m:\n\u001b[0;32m     91\u001b[0m         txtArduino \u001b[38;5;241m=\u001b[39m s\u001b[38;5;241m.\u001b[39mreadline()\u001b[38;5;241m.\u001b[39mdecode(\u001b[38;5;124m'\u001b[39m\u001b[38;5;124mascii\u001b[39m\u001b[38;5;124m'\u001b[39m)\n\u001b[0;32m     92\u001b[0m         datos \u001b[38;5;241m=\u001b[39m txtArduino\u001b[38;5;241m.\u001b[39msplit(\u001b[38;5;124m\"\u001b[39m\u001b[38;5;124m;\u001b[39m\u001b[38;5;124m\"\u001b[39m)\n",
      "\u001b[1;31mAttributeError\u001b[0m: 'grafico' object has no attribute 'grabando'"
     ]
    },
    {
     "ename": "AttributeError",
     "evalue": "'grafico' object has no attribute 'grabando'",
     "output_type": "error",
     "traceback": [
      "\u001b[1;31m---------------------------------------------------------------------------\u001b[0m",
      "\u001b[1;31mAttributeError\u001b[0m                            Traceback (most recent call last)",
      "Cell \u001b[1;32mIn[31], line 90\u001b[0m, in \u001b[0;36mgrafico.update_base\u001b[1;34m(self)\u001b[0m\n\u001b[0;32m     89\u001b[0m \u001b[38;5;28;01mdef\u001b[39;00m \u001b[38;5;21mupdate_base\u001b[39m(\u001b[38;5;28mself\u001b[39m): \u001b[38;5;66;03m#temperatura,potencia,velocidad\u001b[39;00m\n\u001b[1;32m---> 90\u001b[0m     \u001b[38;5;28;01mif\u001b[39;00m \u001b[38;5;28;43mself\u001b[39;49m\u001b[38;5;241;43m.\u001b[39;49m\u001b[43mgrabando\u001b[49m \u001b[38;5;241m==\u001b[39m \u001b[38;5;28;01mTrue\u001b[39;00m:\n\u001b[0;32m     91\u001b[0m         txtArduino \u001b[38;5;241m=\u001b[39m s\u001b[38;5;241m.\u001b[39mreadline()\u001b[38;5;241m.\u001b[39mdecode(\u001b[38;5;124m'\u001b[39m\u001b[38;5;124mascii\u001b[39m\u001b[38;5;124m'\u001b[39m)\n\u001b[0;32m     92\u001b[0m         datos \u001b[38;5;241m=\u001b[39m txtArduino\u001b[38;5;241m.\u001b[39msplit(\u001b[38;5;124m\"\u001b[39m\u001b[38;5;124m;\u001b[39m\u001b[38;5;124m\"\u001b[39m)\n",
      "\u001b[1;31mAttributeError\u001b[0m: 'grafico' object has no attribute 'grabando'"
     ]
    },
    {
     "ename": "AttributeError",
     "evalue": "'grafico' object has no attribute 'grabando'",
     "output_type": "error",
     "traceback": [
      "\u001b[1;31m---------------------------------------------------------------------------\u001b[0m",
      "\u001b[1;31mAttributeError\u001b[0m                            Traceback (most recent call last)",
      "Cell \u001b[1;32mIn[31], line 90\u001b[0m, in \u001b[0;36mgrafico.update_base\u001b[1;34m(self)\u001b[0m\n\u001b[0;32m     89\u001b[0m \u001b[38;5;28;01mdef\u001b[39;00m \u001b[38;5;21mupdate_base\u001b[39m(\u001b[38;5;28mself\u001b[39m): \u001b[38;5;66;03m#temperatura,potencia,velocidad\u001b[39;00m\n\u001b[1;32m---> 90\u001b[0m     \u001b[38;5;28;01mif\u001b[39;00m \u001b[38;5;28;43mself\u001b[39;49m\u001b[38;5;241;43m.\u001b[39;49m\u001b[43mgrabando\u001b[49m \u001b[38;5;241m==\u001b[39m \u001b[38;5;28;01mTrue\u001b[39;00m:\n\u001b[0;32m     91\u001b[0m         txtArduino \u001b[38;5;241m=\u001b[39m s\u001b[38;5;241m.\u001b[39mreadline()\u001b[38;5;241m.\u001b[39mdecode(\u001b[38;5;124m'\u001b[39m\u001b[38;5;124mascii\u001b[39m\u001b[38;5;124m'\u001b[39m)\n\u001b[0;32m     92\u001b[0m         datos \u001b[38;5;241m=\u001b[39m txtArduino\u001b[38;5;241m.\u001b[39msplit(\u001b[38;5;124m\"\u001b[39m\u001b[38;5;124m;\u001b[39m\u001b[38;5;124m\"\u001b[39m)\n",
      "\u001b[1;31mAttributeError\u001b[0m: 'grafico' object has no attribute 'grabando'"
     ]
    },
    {
     "ename": "AttributeError",
     "evalue": "'grafico' object has no attribute 'grabando'",
     "output_type": "error",
     "traceback": [
      "\u001b[1;31m---------------------------------------------------------------------------\u001b[0m",
      "\u001b[1;31mAttributeError\u001b[0m                            Traceback (most recent call last)",
      "Cell \u001b[1;32mIn[31], line 90\u001b[0m, in \u001b[0;36mgrafico.update_base\u001b[1;34m(self)\u001b[0m\n\u001b[0;32m     89\u001b[0m \u001b[38;5;28;01mdef\u001b[39;00m \u001b[38;5;21mupdate_base\u001b[39m(\u001b[38;5;28mself\u001b[39m): \u001b[38;5;66;03m#temperatura,potencia,velocidad\u001b[39;00m\n\u001b[1;32m---> 90\u001b[0m     \u001b[38;5;28;01mif\u001b[39;00m \u001b[38;5;28;43mself\u001b[39;49m\u001b[38;5;241;43m.\u001b[39;49m\u001b[43mgrabando\u001b[49m \u001b[38;5;241m==\u001b[39m \u001b[38;5;28;01mTrue\u001b[39;00m:\n\u001b[0;32m     91\u001b[0m         txtArduino \u001b[38;5;241m=\u001b[39m s\u001b[38;5;241m.\u001b[39mreadline()\u001b[38;5;241m.\u001b[39mdecode(\u001b[38;5;124m'\u001b[39m\u001b[38;5;124mascii\u001b[39m\u001b[38;5;124m'\u001b[39m)\n\u001b[0;32m     92\u001b[0m         datos \u001b[38;5;241m=\u001b[39m txtArduino\u001b[38;5;241m.\u001b[39msplit(\u001b[38;5;124m\"\u001b[39m\u001b[38;5;124m;\u001b[39m\u001b[38;5;124m\"\u001b[39m)\n",
      "\u001b[1;31mAttributeError\u001b[0m: 'grafico' object has no attribute 'grabando'"
     ]
    },
    {
     "ename": "AttributeError",
     "evalue": "'grafico' object has no attribute 'grabando'",
     "output_type": "error",
     "traceback": [
      "\u001b[1;31m---------------------------------------------------------------------------\u001b[0m",
      "\u001b[1;31mAttributeError\u001b[0m                            Traceback (most recent call last)",
      "Cell \u001b[1;32mIn[31], line 90\u001b[0m, in \u001b[0;36mgrafico.update_base\u001b[1;34m(self)\u001b[0m\n\u001b[0;32m     89\u001b[0m \u001b[38;5;28;01mdef\u001b[39;00m \u001b[38;5;21mupdate_base\u001b[39m(\u001b[38;5;28mself\u001b[39m): \u001b[38;5;66;03m#temperatura,potencia,velocidad\u001b[39;00m\n\u001b[1;32m---> 90\u001b[0m     \u001b[38;5;28;01mif\u001b[39;00m \u001b[38;5;28;43mself\u001b[39;49m\u001b[38;5;241;43m.\u001b[39;49m\u001b[43mgrabando\u001b[49m \u001b[38;5;241m==\u001b[39m \u001b[38;5;28;01mTrue\u001b[39;00m:\n\u001b[0;32m     91\u001b[0m         txtArduino \u001b[38;5;241m=\u001b[39m s\u001b[38;5;241m.\u001b[39mreadline()\u001b[38;5;241m.\u001b[39mdecode(\u001b[38;5;124m'\u001b[39m\u001b[38;5;124mascii\u001b[39m\u001b[38;5;124m'\u001b[39m)\n\u001b[0;32m     92\u001b[0m         datos \u001b[38;5;241m=\u001b[39m txtArduino\u001b[38;5;241m.\u001b[39msplit(\u001b[38;5;124m\"\u001b[39m\u001b[38;5;124m;\u001b[39m\u001b[38;5;124m\"\u001b[39m)\n",
      "\u001b[1;31mAttributeError\u001b[0m: 'grafico' object has no attribute 'grabando'"
     ]
    },
    {
     "ename": "AttributeError",
     "evalue": "'grafico' object has no attribute 'grabando'",
     "output_type": "error",
     "traceback": [
      "\u001b[1;31m---------------------------------------------------------------------------\u001b[0m",
      "\u001b[1;31mAttributeError\u001b[0m                            Traceback (most recent call last)",
      "Cell \u001b[1;32mIn[31], line 90\u001b[0m, in \u001b[0;36mgrafico.update_base\u001b[1;34m(self)\u001b[0m\n\u001b[0;32m     89\u001b[0m \u001b[38;5;28;01mdef\u001b[39;00m \u001b[38;5;21mupdate_base\u001b[39m(\u001b[38;5;28mself\u001b[39m): \u001b[38;5;66;03m#temperatura,potencia,velocidad\u001b[39;00m\n\u001b[1;32m---> 90\u001b[0m     \u001b[38;5;28;01mif\u001b[39;00m \u001b[38;5;28;43mself\u001b[39;49m\u001b[38;5;241;43m.\u001b[39;49m\u001b[43mgrabando\u001b[49m \u001b[38;5;241m==\u001b[39m \u001b[38;5;28;01mTrue\u001b[39;00m:\n\u001b[0;32m     91\u001b[0m         txtArduino \u001b[38;5;241m=\u001b[39m s\u001b[38;5;241m.\u001b[39mreadline()\u001b[38;5;241m.\u001b[39mdecode(\u001b[38;5;124m'\u001b[39m\u001b[38;5;124mascii\u001b[39m\u001b[38;5;124m'\u001b[39m)\n\u001b[0;32m     92\u001b[0m         datos \u001b[38;5;241m=\u001b[39m txtArduino\u001b[38;5;241m.\u001b[39msplit(\u001b[38;5;124m\"\u001b[39m\u001b[38;5;124m;\u001b[39m\u001b[38;5;124m\"\u001b[39m)\n",
      "\u001b[1;31mAttributeError\u001b[0m: 'grafico' object has no attribute 'grabando'"
     ]
    },
    {
     "ename": "AttributeError",
     "evalue": "'grafico' object has no attribute 'grabando'",
     "output_type": "error",
     "traceback": [
      "\u001b[1;31m---------------------------------------------------------------------------\u001b[0m",
      "\u001b[1;31mAttributeError\u001b[0m                            Traceback (most recent call last)",
      "Cell \u001b[1;32mIn[31], line 90\u001b[0m, in \u001b[0;36mgrafico.update_base\u001b[1;34m(self)\u001b[0m\n\u001b[0;32m     89\u001b[0m \u001b[38;5;28;01mdef\u001b[39;00m \u001b[38;5;21mupdate_base\u001b[39m(\u001b[38;5;28mself\u001b[39m): \u001b[38;5;66;03m#temperatura,potencia,velocidad\u001b[39;00m\n\u001b[1;32m---> 90\u001b[0m     \u001b[38;5;28;01mif\u001b[39;00m \u001b[38;5;28;43mself\u001b[39;49m\u001b[38;5;241;43m.\u001b[39;49m\u001b[43mgrabando\u001b[49m \u001b[38;5;241m==\u001b[39m \u001b[38;5;28;01mTrue\u001b[39;00m:\n\u001b[0;32m     91\u001b[0m         txtArduino \u001b[38;5;241m=\u001b[39m s\u001b[38;5;241m.\u001b[39mreadline()\u001b[38;5;241m.\u001b[39mdecode(\u001b[38;5;124m'\u001b[39m\u001b[38;5;124mascii\u001b[39m\u001b[38;5;124m'\u001b[39m)\n\u001b[0;32m     92\u001b[0m         datos \u001b[38;5;241m=\u001b[39m txtArduino\u001b[38;5;241m.\u001b[39msplit(\u001b[38;5;124m\"\u001b[39m\u001b[38;5;124m;\u001b[39m\u001b[38;5;124m\"\u001b[39m)\n",
      "\u001b[1;31mAttributeError\u001b[0m: 'grafico' object has no attribute 'grabando'"
     ]
    },
    {
     "ename": "AttributeError",
     "evalue": "'grafico' object has no attribute 'grabando'",
     "output_type": "error",
     "traceback": [
      "\u001b[1;31m---------------------------------------------------------------------------\u001b[0m",
      "\u001b[1;31mAttributeError\u001b[0m                            Traceback (most recent call last)",
      "Cell \u001b[1;32mIn[31], line 90\u001b[0m, in \u001b[0;36mgrafico.update_base\u001b[1;34m(self)\u001b[0m\n\u001b[0;32m     89\u001b[0m \u001b[38;5;28;01mdef\u001b[39;00m \u001b[38;5;21mupdate_base\u001b[39m(\u001b[38;5;28mself\u001b[39m): \u001b[38;5;66;03m#temperatura,potencia,velocidad\u001b[39;00m\n\u001b[1;32m---> 90\u001b[0m     \u001b[38;5;28;01mif\u001b[39;00m \u001b[38;5;28;43mself\u001b[39;49m\u001b[38;5;241;43m.\u001b[39;49m\u001b[43mgrabando\u001b[49m \u001b[38;5;241m==\u001b[39m \u001b[38;5;28;01mTrue\u001b[39;00m:\n\u001b[0;32m     91\u001b[0m         txtArduino \u001b[38;5;241m=\u001b[39m s\u001b[38;5;241m.\u001b[39mreadline()\u001b[38;5;241m.\u001b[39mdecode(\u001b[38;5;124m'\u001b[39m\u001b[38;5;124mascii\u001b[39m\u001b[38;5;124m'\u001b[39m)\n\u001b[0;32m     92\u001b[0m         datos \u001b[38;5;241m=\u001b[39m txtArduino\u001b[38;5;241m.\u001b[39msplit(\u001b[38;5;124m\"\u001b[39m\u001b[38;5;124m;\u001b[39m\u001b[38;5;124m\"\u001b[39m)\n",
      "\u001b[1;31mAttributeError\u001b[0m: 'grafico' object has no attribute 'grabando'"
     ]
    },
    {
     "ename": "AttributeError",
     "evalue": "'grafico' object has no attribute 'grabando'",
     "output_type": "error",
     "traceback": [
      "\u001b[1;31m---------------------------------------------------------------------------\u001b[0m",
      "\u001b[1;31mAttributeError\u001b[0m                            Traceback (most recent call last)",
      "Cell \u001b[1;32mIn[31], line 90\u001b[0m, in \u001b[0;36mgrafico.update_base\u001b[1;34m(self)\u001b[0m\n\u001b[0;32m     89\u001b[0m \u001b[38;5;28;01mdef\u001b[39;00m \u001b[38;5;21mupdate_base\u001b[39m(\u001b[38;5;28mself\u001b[39m): \u001b[38;5;66;03m#temperatura,potencia,velocidad\u001b[39;00m\n\u001b[1;32m---> 90\u001b[0m     \u001b[38;5;28;01mif\u001b[39;00m \u001b[38;5;28;43mself\u001b[39;49m\u001b[38;5;241;43m.\u001b[39;49m\u001b[43mgrabando\u001b[49m \u001b[38;5;241m==\u001b[39m \u001b[38;5;28;01mTrue\u001b[39;00m:\n\u001b[0;32m     91\u001b[0m         txtArduino \u001b[38;5;241m=\u001b[39m s\u001b[38;5;241m.\u001b[39mreadline()\u001b[38;5;241m.\u001b[39mdecode(\u001b[38;5;124m'\u001b[39m\u001b[38;5;124mascii\u001b[39m\u001b[38;5;124m'\u001b[39m)\n\u001b[0;32m     92\u001b[0m         datos \u001b[38;5;241m=\u001b[39m txtArduino\u001b[38;5;241m.\u001b[39msplit(\u001b[38;5;124m\"\u001b[39m\u001b[38;5;124m;\u001b[39m\u001b[38;5;124m\"\u001b[39m)\n",
      "\u001b[1;31mAttributeError\u001b[0m: 'grafico' object has no attribute 'grabando'"
     ]
    },
    {
     "ename": "AttributeError",
     "evalue": "'grafico' object has no attribute 'grabando'",
     "output_type": "error",
     "traceback": [
      "\u001b[1;31m---------------------------------------------------------------------------\u001b[0m",
      "\u001b[1;31mAttributeError\u001b[0m                            Traceback (most recent call last)",
      "Cell \u001b[1;32mIn[31], line 90\u001b[0m, in \u001b[0;36mgrafico.update_base\u001b[1;34m(self)\u001b[0m\n\u001b[0;32m     89\u001b[0m \u001b[38;5;28;01mdef\u001b[39;00m \u001b[38;5;21mupdate_base\u001b[39m(\u001b[38;5;28mself\u001b[39m): \u001b[38;5;66;03m#temperatura,potencia,velocidad\u001b[39;00m\n\u001b[1;32m---> 90\u001b[0m     \u001b[38;5;28;01mif\u001b[39;00m \u001b[38;5;28;43mself\u001b[39;49m\u001b[38;5;241;43m.\u001b[39;49m\u001b[43mgrabando\u001b[49m \u001b[38;5;241m==\u001b[39m \u001b[38;5;28;01mTrue\u001b[39;00m:\n\u001b[0;32m     91\u001b[0m         txtArduino \u001b[38;5;241m=\u001b[39m s\u001b[38;5;241m.\u001b[39mreadline()\u001b[38;5;241m.\u001b[39mdecode(\u001b[38;5;124m'\u001b[39m\u001b[38;5;124mascii\u001b[39m\u001b[38;5;124m'\u001b[39m)\n\u001b[0;32m     92\u001b[0m         datos \u001b[38;5;241m=\u001b[39m txtArduino\u001b[38;5;241m.\u001b[39msplit(\u001b[38;5;124m\"\u001b[39m\u001b[38;5;124m;\u001b[39m\u001b[38;5;124m\"\u001b[39m)\n",
      "\u001b[1;31mAttributeError\u001b[0m: 'grafico' object has no attribute 'grabando'"
     ]
    },
    {
     "ename": "AttributeError",
     "evalue": "'grafico' object has no attribute 'grabando'",
     "output_type": "error",
     "traceback": [
      "\u001b[1;31m---------------------------------------------------------------------------\u001b[0m",
      "\u001b[1;31mAttributeError\u001b[0m                            Traceback (most recent call last)",
      "Cell \u001b[1;32mIn[31], line 90\u001b[0m, in \u001b[0;36mgrafico.update_base\u001b[1;34m(self)\u001b[0m\n\u001b[0;32m     89\u001b[0m \u001b[38;5;28;01mdef\u001b[39;00m \u001b[38;5;21mupdate_base\u001b[39m(\u001b[38;5;28mself\u001b[39m): \u001b[38;5;66;03m#temperatura,potencia,velocidad\u001b[39;00m\n\u001b[1;32m---> 90\u001b[0m     \u001b[38;5;28;01mif\u001b[39;00m \u001b[38;5;28;43mself\u001b[39;49m\u001b[38;5;241;43m.\u001b[39;49m\u001b[43mgrabando\u001b[49m \u001b[38;5;241m==\u001b[39m \u001b[38;5;28;01mTrue\u001b[39;00m:\n\u001b[0;32m     91\u001b[0m         txtArduino \u001b[38;5;241m=\u001b[39m s\u001b[38;5;241m.\u001b[39mreadline()\u001b[38;5;241m.\u001b[39mdecode(\u001b[38;5;124m'\u001b[39m\u001b[38;5;124mascii\u001b[39m\u001b[38;5;124m'\u001b[39m)\n\u001b[0;32m     92\u001b[0m         datos \u001b[38;5;241m=\u001b[39m txtArduino\u001b[38;5;241m.\u001b[39msplit(\u001b[38;5;124m\"\u001b[39m\u001b[38;5;124m;\u001b[39m\u001b[38;5;124m\"\u001b[39m)\n",
      "\u001b[1;31mAttributeError\u001b[0m: 'grafico' object has no attribute 'grabando'"
     ]
    },
    {
     "ename": "AttributeError",
     "evalue": "'grafico' object has no attribute 'grabando'",
     "output_type": "error",
     "traceback": [
      "\u001b[1;31m---------------------------------------------------------------------------\u001b[0m",
      "\u001b[1;31mAttributeError\u001b[0m                            Traceback (most recent call last)",
      "Cell \u001b[1;32mIn[31], line 90\u001b[0m, in \u001b[0;36mgrafico.update_base\u001b[1;34m(self)\u001b[0m\n\u001b[0;32m     89\u001b[0m \u001b[38;5;28;01mdef\u001b[39;00m \u001b[38;5;21mupdate_base\u001b[39m(\u001b[38;5;28mself\u001b[39m): \u001b[38;5;66;03m#temperatura,potencia,velocidad\u001b[39;00m\n\u001b[1;32m---> 90\u001b[0m     \u001b[38;5;28;01mif\u001b[39;00m \u001b[38;5;28;43mself\u001b[39;49m\u001b[38;5;241;43m.\u001b[39;49m\u001b[43mgrabando\u001b[49m \u001b[38;5;241m==\u001b[39m \u001b[38;5;28;01mTrue\u001b[39;00m:\n\u001b[0;32m     91\u001b[0m         txtArduino \u001b[38;5;241m=\u001b[39m s\u001b[38;5;241m.\u001b[39mreadline()\u001b[38;5;241m.\u001b[39mdecode(\u001b[38;5;124m'\u001b[39m\u001b[38;5;124mascii\u001b[39m\u001b[38;5;124m'\u001b[39m)\n\u001b[0;32m     92\u001b[0m         datos \u001b[38;5;241m=\u001b[39m txtArduino\u001b[38;5;241m.\u001b[39msplit(\u001b[38;5;124m\"\u001b[39m\u001b[38;5;124m;\u001b[39m\u001b[38;5;124m\"\u001b[39m)\n",
      "\u001b[1;31mAttributeError\u001b[0m: 'grafico' object has no attribute 'grabando'"
     ]
    },
    {
     "ename": "AttributeError",
     "evalue": "'grafico' object has no attribute 'grabando'",
     "output_type": "error",
     "traceback": [
      "\u001b[1;31m---------------------------------------------------------------------------\u001b[0m",
      "\u001b[1;31mAttributeError\u001b[0m                            Traceback (most recent call last)",
      "Cell \u001b[1;32mIn[31], line 90\u001b[0m, in \u001b[0;36mgrafico.update_base\u001b[1;34m(self)\u001b[0m\n\u001b[0;32m     89\u001b[0m \u001b[38;5;28;01mdef\u001b[39;00m \u001b[38;5;21mupdate_base\u001b[39m(\u001b[38;5;28mself\u001b[39m): \u001b[38;5;66;03m#temperatura,potencia,velocidad\u001b[39;00m\n\u001b[1;32m---> 90\u001b[0m     \u001b[38;5;28;01mif\u001b[39;00m \u001b[38;5;28;43mself\u001b[39;49m\u001b[38;5;241;43m.\u001b[39;49m\u001b[43mgrabando\u001b[49m \u001b[38;5;241m==\u001b[39m \u001b[38;5;28;01mTrue\u001b[39;00m:\n\u001b[0;32m     91\u001b[0m         txtArduino \u001b[38;5;241m=\u001b[39m s\u001b[38;5;241m.\u001b[39mreadline()\u001b[38;5;241m.\u001b[39mdecode(\u001b[38;5;124m'\u001b[39m\u001b[38;5;124mascii\u001b[39m\u001b[38;5;124m'\u001b[39m)\n\u001b[0;32m     92\u001b[0m         datos \u001b[38;5;241m=\u001b[39m txtArduino\u001b[38;5;241m.\u001b[39msplit(\u001b[38;5;124m\"\u001b[39m\u001b[38;5;124m;\u001b[39m\u001b[38;5;124m\"\u001b[39m)\n",
      "\u001b[1;31mAttributeError\u001b[0m: 'grafico' object has no attribute 'grabando'"
     ]
    },
    {
     "ename": "AttributeError",
     "evalue": "'grafico' object has no attribute 'grabando'",
     "output_type": "error",
     "traceback": [
      "\u001b[1;31m---------------------------------------------------------------------------\u001b[0m",
      "\u001b[1;31mAttributeError\u001b[0m                            Traceback (most recent call last)",
      "Cell \u001b[1;32mIn[31], line 90\u001b[0m, in \u001b[0;36mgrafico.update_base\u001b[1;34m(self)\u001b[0m\n\u001b[0;32m     89\u001b[0m \u001b[38;5;28;01mdef\u001b[39;00m \u001b[38;5;21mupdate_base\u001b[39m(\u001b[38;5;28mself\u001b[39m): \u001b[38;5;66;03m#temperatura,potencia,velocidad\u001b[39;00m\n\u001b[1;32m---> 90\u001b[0m     \u001b[38;5;28;01mif\u001b[39;00m \u001b[38;5;28;43mself\u001b[39;49m\u001b[38;5;241;43m.\u001b[39;49m\u001b[43mgrabando\u001b[49m \u001b[38;5;241m==\u001b[39m \u001b[38;5;28;01mTrue\u001b[39;00m:\n\u001b[0;32m     91\u001b[0m         txtArduino \u001b[38;5;241m=\u001b[39m s\u001b[38;5;241m.\u001b[39mreadline()\u001b[38;5;241m.\u001b[39mdecode(\u001b[38;5;124m'\u001b[39m\u001b[38;5;124mascii\u001b[39m\u001b[38;5;124m'\u001b[39m)\n\u001b[0;32m     92\u001b[0m         datos \u001b[38;5;241m=\u001b[39m txtArduino\u001b[38;5;241m.\u001b[39msplit(\u001b[38;5;124m\"\u001b[39m\u001b[38;5;124m;\u001b[39m\u001b[38;5;124m\"\u001b[39m)\n",
      "\u001b[1;31mAttributeError\u001b[0m: 'grafico' object has no attribute 'grabando'"
     ]
    },
    {
     "ename": "AttributeError",
     "evalue": "'grafico' object has no attribute 'grabando'",
     "output_type": "error",
     "traceback": [
      "\u001b[1;31m---------------------------------------------------------------------------\u001b[0m",
      "\u001b[1;31mAttributeError\u001b[0m                            Traceback (most recent call last)",
      "Cell \u001b[1;32mIn[31], line 90\u001b[0m, in \u001b[0;36mgrafico.update_base\u001b[1;34m(self)\u001b[0m\n\u001b[0;32m     89\u001b[0m \u001b[38;5;28;01mdef\u001b[39;00m \u001b[38;5;21mupdate_base\u001b[39m(\u001b[38;5;28mself\u001b[39m): \u001b[38;5;66;03m#temperatura,potencia,velocidad\u001b[39;00m\n\u001b[1;32m---> 90\u001b[0m     \u001b[38;5;28;01mif\u001b[39;00m \u001b[38;5;28;43mself\u001b[39;49m\u001b[38;5;241;43m.\u001b[39;49m\u001b[43mgrabando\u001b[49m \u001b[38;5;241m==\u001b[39m \u001b[38;5;28;01mTrue\u001b[39;00m:\n\u001b[0;32m     91\u001b[0m         txtArduino \u001b[38;5;241m=\u001b[39m s\u001b[38;5;241m.\u001b[39mreadline()\u001b[38;5;241m.\u001b[39mdecode(\u001b[38;5;124m'\u001b[39m\u001b[38;5;124mascii\u001b[39m\u001b[38;5;124m'\u001b[39m)\n\u001b[0;32m     92\u001b[0m         datos \u001b[38;5;241m=\u001b[39m txtArduino\u001b[38;5;241m.\u001b[39msplit(\u001b[38;5;124m\"\u001b[39m\u001b[38;5;124m;\u001b[39m\u001b[38;5;124m\"\u001b[39m)\n",
      "\u001b[1;31mAttributeError\u001b[0m: 'grafico' object has no attribute 'grabando'"
     ]
    },
    {
     "ename": "AttributeError",
     "evalue": "'grafico' object has no attribute 'grabando'",
     "output_type": "error",
     "traceback": [
      "\u001b[1;31m---------------------------------------------------------------------------\u001b[0m",
      "\u001b[1;31mAttributeError\u001b[0m                            Traceback (most recent call last)",
      "Cell \u001b[1;32mIn[31], line 90\u001b[0m, in \u001b[0;36mgrafico.update_base\u001b[1;34m(self)\u001b[0m\n\u001b[0;32m     89\u001b[0m \u001b[38;5;28;01mdef\u001b[39;00m \u001b[38;5;21mupdate_base\u001b[39m(\u001b[38;5;28mself\u001b[39m): \u001b[38;5;66;03m#temperatura,potencia,velocidad\u001b[39;00m\n\u001b[1;32m---> 90\u001b[0m     \u001b[38;5;28;01mif\u001b[39;00m \u001b[38;5;28;43mself\u001b[39;49m\u001b[38;5;241;43m.\u001b[39;49m\u001b[43mgrabando\u001b[49m \u001b[38;5;241m==\u001b[39m \u001b[38;5;28;01mTrue\u001b[39;00m:\n\u001b[0;32m     91\u001b[0m         txtArduino \u001b[38;5;241m=\u001b[39m s\u001b[38;5;241m.\u001b[39mreadline()\u001b[38;5;241m.\u001b[39mdecode(\u001b[38;5;124m'\u001b[39m\u001b[38;5;124mascii\u001b[39m\u001b[38;5;124m'\u001b[39m)\n\u001b[0;32m     92\u001b[0m         datos \u001b[38;5;241m=\u001b[39m txtArduino\u001b[38;5;241m.\u001b[39msplit(\u001b[38;5;124m\"\u001b[39m\u001b[38;5;124m;\u001b[39m\u001b[38;5;124m\"\u001b[39m)\n",
      "\u001b[1;31mAttributeError\u001b[0m: 'grafico' object has no attribute 'grabando'"
     ]
    },
    {
     "ename": "AttributeError",
     "evalue": "'grafico' object has no attribute 'grabando'",
     "output_type": "error",
     "traceback": [
      "\u001b[1;31m---------------------------------------------------------------------------\u001b[0m",
      "\u001b[1;31mAttributeError\u001b[0m                            Traceback (most recent call last)",
      "Cell \u001b[1;32mIn[31], line 90\u001b[0m, in \u001b[0;36mgrafico.update_base\u001b[1;34m(self)\u001b[0m\n\u001b[0;32m     89\u001b[0m \u001b[38;5;28;01mdef\u001b[39;00m \u001b[38;5;21mupdate_base\u001b[39m(\u001b[38;5;28mself\u001b[39m): \u001b[38;5;66;03m#temperatura,potencia,velocidad\u001b[39;00m\n\u001b[1;32m---> 90\u001b[0m     \u001b[38;5;28;01mif\u001b[39;00m \u001b[38;5;28;43mself\u001b[39;49m\u001b[38;5;241;43m.\u001b[39;49m\u001b[43mgrabando\u001b[49m \u001b[38;5;241m==\u001b[39m \u001b[38;5;28;01mTrue\u001b[39;00m:\n\u001b[0;32m     91\u001b[0m         txtArduino \u001b[38;5;241m=\u001b[39m s\u001b[38;5;241m.\u001b[39mreadline()\u001b[38;5;241m.\u001b[39mdecode(\u001b[38;5;124m'\u001b[39m\u001b[38;5;124mascii\u001b[39m\u001b[38;5;124m'\u001b[39m)\n\u001b[0;32m     92\u001b[0m         datos \u001b[38;5;241m=\u001b[39m txtArduino\u001b[38;5;241m.\u001b[39msplit(\u001b[38;5;124m\"\u001b[39m\u001b[38;5;124m;\u001b[39m\u001b[38;5;124m\"\u001b[39m)\n",
      "\u001b[1;31mAttributeError\u001b[0m: 'grafico' object has no attribute 'grabando'"
     ]
    },
    {
     "ename": "AttributeError",
     "evalue": "'grafico' object has no attribute 'grabando'",
     "output_type": "error",
     "traceback": [
      "\u001b[1;31m---------------------------------------------------------------------------\u001b[0m",
      "\u001b[1;31mAttributeError\u001b[0m                            Traceback (most recent call last)",
      "Cell \u001b[1;32mIn[31], line 90\u001b[0m, in \u001b[0;36mgrafico.update_base\u001b[1;34m(self)\u001b[0m\n\u001b[0;32m     89\u001b[0m \u001b[38;5;28;01mdef\u001b[39;00m \u001b[38;5;21mupdate_base\u001b[39m(\u001b[38;5;28mself\u001b[39m): \u001b[38;5;66;03m#temperatura,potencia,velocidad\u001b[39;00m\n\u001b[1;32m---> 90\u001b[0m     \u001b[38;5;28;01mif\u001b[39;00m \u001b[38;5;28;43mself\u001b[39;49m\u001b[38;5;241;43m.\u001b[39;49m\u001b[43mgrabando\u001b[49m \u001b[38;5;241m==\u001b[39m \u001b[38;5;28;01mTrue\u001b[39;00m:\n\u001b[0;32m     91\u001b[0m         txtArduino \u001b[38;5;241m=\u001b[39m s\u001b[38;5;241m.\u001b[39mreadline()\u001b[38;5;241m.\u001b[39mdecode(\u001b[38;5;124m'\u001b[39m\u001b[38;5;124mascii\u001b[39m\u001b[38;5;124m'\u001b[39m)\n\u001b[0;32m     92\u001b[0m         datos \u001b[38;5;241m=\u001b[39m txtArduino\u001b[38;5;241m.\u001b[39msplit(\u001b[38;5;124m\"\u001b[39m\u001b[38;5;124m;\u001b[39m\u001b[38;5;124m\"\u001b[39m)\n",
      "\u001b[1;31mAttributeError\u001b[0m: 'grafico' object has no attribute 'grabando'"
     ]
    },
    {
     "ename": "AttributeError",
     "evalue": "'grafico' object has no attribute 'grabando'",
     "output_type": "error",
     "traceback": [
      "\u001b[1;31m---------------------------------------------------------------------------\u001b[0m",
      "\u001b[1;31mAttributeError\u001b[0m                            Traceback (most recent call last)",
      "Cell \u001b[1;32mIn[31], line 90\u001b[0m, in \u001b[0;36mgrafico.update_base\u001b[1;34m(self)\u001b[0m\n\u001b[0;32m     89\u001b[0m \u001b[38;5;28;01mdef\u001b[39;00m \u001b[38;5;21mupdate_base\u001b[39m(\u001b[38;5;28mself\u001b[39m): \u001b[38;5;66;03m#temperatura,potencia,velocidad\u001b[39;00m\n\u001b[1;32m---> 90\u001b[0m     \u001b[38;5;28;01mif\u001b[39;00m \u001b[38;5;28;43mself\u001b[39;49m\u001b[38;5;241;43m.\u001b[39;49m\u001b[43mgrabando\u001b[49m \u001b[38;5;241m==\u001b[39m \u001b[38;5;28;01mTrue\u001b[39;00m:\n\u001b[0;32m     91\u001b[0m         txtArduino \u001b[38;5;241m=\u001b[39m s\u001b[38;5;241m.\u001b[39mreadline()\u001b[38;5;241m.\u001b[39mdecode(\u001b[38;5;124m'\u001b[39m\u001b[38;5;124mascii\u001b[39m\u001b[38;5;124m'\u001b[39m)\n\u001b[0;32m     92\u001b[0m         datos \u001b[38;5;241m=\u001b[39m txtArduino\u001b[38;5;241m.\u001b[39msplit(\u001b[38;5;124m\"\u001b[39m\u001b[38;5;124m;\u001b[39m\u001b[38;5;124m\"\u001b[39m)\n",
      "\u001b[1;31mAttributeError\u001b[0m: 'grafico' object has no attribute 'grabando'"
     ]
    },
    {
     "ename": "AttributeError",
     "evalue": "'grafico' object has no attribute 'grabando'",
     "output_type": "error",
     "traceback": [
      "\u001b[1;31m---------------------------------------------------------------------------\u001b[0m",
      "\u001b[1;31mAttributeError\u001b[0m                            Traceback (most recent call last)",
      "Cell \u001b[1;32mIn[31], line 90\u001b[0m, in \u001b[0;36mgrafico.update_base\u001b[1;34m(self)\u001b[0m\n\u001b[0;32m     89\u001b[0m \u001b[38;5;28;01mdef\u001b[39;00m \u001b[38;5;21mupdate_base\u001b[39m(\u001b[38;5;28mself\u001b[39m): \u001b[38;5;66;03m#temperatura,potencia,velocidad\u001b[39;00m\n\u001b[1;32m---> 90\u001b[0m     \u001b[38;5;28;01mif\u001b[39;00m \u001b[38;5;28;43mself\u001b[39;49m\u001b[38;5;241;43m.\u001b[39;49m\u001b[43mgrabando\u001b[49m \u001b[38;5;241m==\u001b[39m \u001b[38;5;28;01mTrue\u001b[39;00m:\n\u001b[0;32m     91\u001b[0m         txtArduino \u001b[38;5;241m=\u001b[39m s\u001b[38;5;241m.\u001b[39mreadline()\u001b[38;5;241m.\u001b[39mdecode(\u001b[38;5;124m'\u001b[39m\u001b[38;5;124mascii\u001b[39m\u001b[38;5;124m'\u001b[39m)\n\u001b[0;32m     92\u001b[0m         datos \u001b[38;5;241m=\u001b[39m txtArduino\u001b[38;5;241m.\u001b[39msplit(\u001b[38;5;124m\"\u001b[39m\u001b[38;5;124m;\u001b[39m\u001b[38;5;124m\"\u001b[39m)\n",
      "\u001b[1;31mAttributeError\u001b[0m: 'grafico' object has no attribute 'grabando'"
     ]
    },
    {
     "ename": "AttributeError",
     "evalue": "'grafico' object has no attribute 'grabando'",
     "output_type": "error",
     "traceback": [
      "\u001b[1;31m---------------------------------------------------------------------------\u001b[0m",
      "\u001b[1;31mAttributeError\u001b[0m                            Traceback (most recent call last)",
      "Cell \u001b[1;32mIn[31], line 90\u001b[0m, in \u001b[0;36mgrafico.update_base\u001b[1;34m(self)\u001b[0m\n\u001b[0;32m     89\u001b[0m \u001b[38;5;28;01mdef\u001b[39;00m \u001b[38;5;21mupdate_base\u001b[39m(\u001b[38;5;28mself\u001b[39m): \u001b[38;5;66;03m#temperatura,potencia,velocidad\u001b[39;00m\n\u001b[1;32m---> 90\u001b[0m     \u001b[38;5;28;01mif\u001b[39;00m \u001b[38;5;28;43mself\u001b[39;49m\u001b[38;5;241;43m.\u001b[39;49m\u001b[43mgrabando\u001b[49m \u001b[38;5;241m==\u001b[39m \u001b[38;5;28;01mTrue\u001b[39;00m:\n\u001b[0;32m     91\u001b[0m         txtArduino \u001b[38;5;241m=\u001b[39m s\u001b[38;5;241m.\u001b[39mreadline()\u001b[38;5;241m.\u001b[39mdecode(\u001b[38;5;124m'\u001b[39m\u001b[38;5;124mascii\u001b[39m\u001b[38;5;124m'\u001b[39m)\n\u001b[0;32m     92\u001b[0m         datos \u001b[38;5;241m=\u001b[39m txtArduino\u001b[38;5;241m.\u001b[39msplit(\u001b[38;5;124m\"\u001b[39m\u001b[38;5;124m;\u001b[39m\u001b[38;5;124m\"\u001b[39m)\n",
      "\u001b[1;31mAttributeError\u001b[0m: 'grafico' object has no attribute 'grabando'"
     ]
    },
    {
     "ename": "AttributeError",
     "evalue": "'grafico' object has no attribute 'grabando'",
     "output_type": "error",
     "traceback": [
      "\u001b[1;31m---------------------------------------------------------------------------\u001b[0m",
      "\u001b[1;31mAttributeError\u001b[0m                            Traceback (most recent call last)",
      "Cell \u001b[1;32mIn[31], line 90\u001b[0m, in \u001b[0;36mgrafico.update_base\u001b[1;34m(self)\u001b[0m\n\u001b[0;32m     89\u001b[0m \u001b[38;5;28;01mdef\u001b[39;00m \u001b[38;5;21mupdate_base\u001b[39m(\u001b[38;5;28mself\u001b[39m): \u001b[38;5;66;03m#temperatura,potencia,velocidad\u001b[39;00m\n\u001b[1;32m---> 90\u001b[0m     \u001b[38;5;28;01mif\u001b[39;00m \u001b[38;5;28;43mself\u001b[39;49m\u001b[38;5;241;43m.\u001b[39;49m\u001b[43mgrabando\u001b[49m \u001b[38;5;241m==\u001b[39m \u001b[38;5;28;01mTrue\u001b[39;00m:\n\u001b[0;32m     91\u001b[0m         txtArduino \u001b[38;5;241m=\u001b[39m s\u001b[38;5;241m.\u001b[39mreadline()\u001b[38;5;241m.\u001b[39mdecode(\u001b[38;5;124m'\u001b[39m\u001b[38;5;124mascii\u001b[39m\u001b[38;5;124m'\u001b[39m)\n\u001b[0;32m     92\u001b[0m         datos \u001b[38;5;241m=\u001b[39m txtArduino\u001b[38;5;241m.\u001b[39msplit(\u001b[38;5;124m\"\u001b[39m\u001b[38;5;124m;\u001b[39m\u001b[38;5;124m\"\u001b[39m)\n",
      "\u001b[1;31mAttributeError\u001b[0m: 'grafico' object has no attribute 'grabando'"
     ]
    },
    {
     "ename": "AttributeError",
     "evalue": "'grafico' object has no attribute 'grabando'",
     "output_type": "error",
     "traceback": [
      "\u001b[1;31m---------------------------------------------------------------------------\u001b[0m",
      "\u001b[1;31mAttributeError\u001b[0m                            Traceback (most recent call last)",
      "Cell \u001b[1;32mIn[31], line 90\u001b[0m, in \u001b[0;36mgrafico.update_base\u001b[1;34m(self)\u001b[0m\n\u001b[0;32m     89\u001b[0m \u001b[38;5;28;01mdef\u001b[39;00m \u001b[38;5;21mupdate_base\u001b[39m(\u001b[38;5;28mself\u001b[39m): \u001b[38;5;66;03m#temperatura,potencia,velocidad\u001b[39;00m\n\u001b[1;32m---> 90\u001b[0m     \u001b[38;5;28;01mif\u001b[39;00m \u001b[38;5;28;43mself\u001b[39;49m\u001b[38;5;241;43m.\u001b[39;49m\u001b[43mgrabando\u001b[49m \u001b[38;5;241m==\u001b[39m \u001b[38;5;28;01mTrue\u001b[39;00m:\n\u001b[0;32m     91\u001b[0m         txtArduino \u001b[38;5;241m=\u001b[39m s\u001b[38;5;241m.\u001b[39mreadline()\u001b[38;5;241m.\u001b[39mdecode(\u001b[38;5;124m'\u001b[39m\u001b[38;5;124mascii\u001b[39m\u001b[38;5;124m'\u001b[39m)\n\u001b[0;32m     92\u001b[0m         datos \u001b[38;5;241m=\u001b[39m txtArduino\u001b[38;5;241m.\u001b[39msplit(\u001b[38;5;124m\"\u001b[39m\u001b[38;5;124m;\u001b[39m\u001b[38;5;124m\"\u001b[39m)\n",
      "\u001b[1;31mAttributeError\u001b[0m: 'grafico' object has no attribute 'grabando'"
     ]
    },
    {
     "ename": "AttributeError",
     "evalue": "'grafico' object has no attribute 'grabando'",
     "output_type": "error",
     "traceback": [
      "\u001b[1;31m---------------------------------------------------------------------------\u001b[0m",
      "\u001b[1;31mAttributeError\u001b[0m                            Traceback (most recent call last)",
      "Cell \u001b[1;32mIn[31], line 90\u001b[0m, in \u001b[0;36mgrafico.update_base\u001b[1;34m(self)\u001b[0m\n\u001b[0;32m     89\u001b[0m \u001b[38;5;28;01mdef\u001b[39;00m \u001b[38;5;21mupdate_base\u001b[39m(\u001b[38;5;28mself\u001b[39m): \u001b[38;5;66;03m#temperatura,potencia,velocidad\u001b[39;00m\n\u001b[1;32m---> 90\u001b[0m     \u001b[38;5;28;01mif\u001b[39;00m \u001b[38;5;28;43mself\u001b[39;49m\u001b[38;5;241;43m.\u001b[39;49m\u001b[43mgrabando\u001b[49m \u001b[38;5;241m==\u001b[39m \u001b[38;5;28;01mTrue\u001b[39;00m:\n\u001b[0;32m     91\u001b[0m         txtArduino \u001b[38;5;241m=\u001b[39m s\u001b[38;5;241m.\u001b[39mreadline()\u001b[38;5;241m.\u001b[39mdecode(\u001b[38;5;124m'\u001b[39m\u001b[38;5;124mascii\u001b[39m\u001b[38;5;124m'\u001b[39m)\n\u001b[0;32m     92\u001b[0m         datos \u001b[38;5;241m=\u001b[39m txtArduino\u001b[38;5;241m.\u001b[39msplit(\u001b[38;5;124m\"\u001b[39m\u001b[38;5;124m;\u001b[39m\u001b[38;5;124m\"\u001b[39m)\n",
      "\u001b[1;31mAttributeError\u001b[0m: 'grafico' object has no attribute 'grabando'"
     ]
    },
    {
     "ename": "AttributeError",
     "evalue": "'grafico' object has no attribute 'grabando'",
     "output_type": "error",
     "traceback": [
      "\u001b[1;31m---------------------------------------------------------------------------\u001b[0m",
      "\u001b[1;31mAttributeError\u001b[0m                            Traceback (most recent call last)",
      "Cell \u001b[1;32mIn[31], line 90\u001b[0m, in \u001b[0;36mgrafico.update_base\u001b[1;34m(self)\u001b[0m\n\u001b[0;32m     89\u001b[0m \u001b[38;5;28;01mdef\u001b[39;00m \u001b[38;5;21mupdate_base\u001b[39m(\u001b[38;5;28mself\u001b[39m): \u001b[38;5;66;03m#temperatura,potencia,velocidad\u001b[39;00m\n\u001b[1;32m---> 90\u001b[0m     \u001b[38;5;28;01mif\u001b[39;00m \u001b[38;5;28;43mself\u001b[39;49m\u001b[38;5;241;43m.\u001b[39;49m\u001b[43mgrabando\u001b[49m \u001b[38;5;241m==\u001b[39m \u001b[38;5;28;01mTrue\u001b[39;00m:\n\u001b[0;32m     91\u001b[0m         txtArduino \u001b[38;5;241m=\u001b[39m s\u001b[38;5;241m.\u001b[39mreadline()\u001b[38;5;241m.\u001b[39mdecode(\u001b[38;5;124m'\u001b[39m\u001b[38;5;124mascii\u001b[39m\u001b[38;5;124m'\u001b[39m)\n\u001b[0;32m     92\u001b[0m         datos \u001b[38;5;241m=\u001b[39m txtArduino\u001b[38;5;241m.\u001b[39msplit(\u001b[38;5;124m\"\u001b[39m\u001b[38;5;124m;\u001b[39m\u001b[38;5;124m\"\u001b[39m)\n",
      "\u001b[1;31mAttributeError\u001b[0m: 'grafico' object has no attribute 'grabando'"
     ]
    },
    {
     "ename": "AttributeError",
     "evalue": "'grafico' object has no attribute 'grabando'",
     "output_type": "error",
     "traceback": [
      "\u001b[1;31m---------------------------------------------------------------------------\u001b[0m",
      "\u001b[1;31mAttributeError\u001b[0m                            Traceback (most recent call last)",
      "Cell \u001b[1;32mIn[31], line 90\u001b[0m, in \u001b[0;36mgrafico.update_base\u001b[1;34m(self)\u001b[0m\n\u001b[0;32m     89\u001b[0m \u001b[38;5;28;01mdef\u001b[39;00m \u001b[38;5;21mupdate_base\u001b[39m(\u001b[38;5;28mself\u001b[39m): \u001b[38;5;66;03m#temperatura,potencia,velocidad\u001b[39;00m\n\u001b[1;32m---> 90\u001b[0m     \u001b[38;5;28;01mif\u001b[39;00m \u001b[38;5;28;43mself\u001b[39;49m\u001b[38;5;241;43m.\u001b[39;49m\u001b[43mgrabando\u001b[49m \u001b[38;5;241m==\u001b[39m \u001b[38;5;28;01mTrue\u001b[39;00m:\n\u001b[0;32m     91\u001b[0m         txtArduino \u001b[38;5;241m=\u001b[39m s\u001b[38;5;241m.\u001b[39mreadline()\u001b[38;5;241m.\u001b[39mdecode(\u001b[38;5;124m'\u001b[39m\u001b[38;5;124mascii\u001b[39m\u001b[38;5;124m'\u001b[39m)\n\u001b[0;32m     92\u001b[0m         datos \u001b[38;5;241m=\u001b[39m txtArduino\u001b[38;5;241m.\u001b[39msplit(\u001b[38;5;124m\"\u001b[39m\u001b[38;5;124m;\u001b[39m\u001b[38;5;124m\"\u001b[39m)\n",
      "\u001b[1;31mAttributeError\u001b[0m: 'grafico' object has no attribute 'grabando'"
     ]
    },
    {
     "ename": "AttributeError",
     "evalue": "'grafico' object has no attribute 'grabando'",
     "output_type": "error",
     "traceback": [
      "\u001b[1;31m---------------------------------------------------------------------------\u001b[0m",
      "\u001b[1;31mAttributeError\u001b[0m                            Traceback (most recent call last)",
      "Cell \u001b[1;32mIn[31], line 90\u001b[0m, in \u001b[0;36mgrafico.update_base\u001b[1;34m(self)\u001b[0m\n\u001b[0;32m     89\u001b[0m \u001b[38;5;28;01mdef\u001b[39;00m \u001b[38;5;21mupdate_base\u001b[39m(\u001b[38;5;28mself\u001b[39m): \u001b[38;5;66;03m#temperatura,potencia,velocidad\u001b[39;00m\n\u001b[1;32m---> 90\u001b[0m     \u001b[38;5;28;01mif\u001b[39;00m \u001b[38;5;28;43mself\u001b[39;49m\u001b[38;5;241;43m.\u001b[39;49m\u001b[43mgrabando\u001b[49m \u001b[38;5;241m==\u001b[39m \u001b[38;5;28;01mTrue\u001b[39;00m:\n\u001b[0;32m     91\u001b[0m         txtArduino \u001b[38;5;241m=\u001b[39m s\u001b[38;5;241m.\u001b[39mreadline()\u001b[38;5;241m.\u001b[39mdecode(\u001b[38;5;124m'\u001b[39m\u001b[38;5;124mascii\u001b[39m\u001b[38;5;124m'\u001b[39m)\n\u001b[0;32m     92\u001b[0m         datos \u001b[38;5;241m=\u001b[39m txtArduino\u001b[38;5;241m.\u001b[39msplit(\u001b[38;5;124m\"\u001b[39m\u001b[38;5;124m;\u001b[39m\u001b[38;5;124m\"\u001b[39m)\n",
      "\u001b[1;31mAttributeError\u001b[0m: 'grafico' object has no attribute 'grabando'"
     ]
    },
    {
     "ename": "AttributeError",
     "evalue": "'grafico' object has no attribute 'grabando'",
     "output_type": "error",
     "traceback": [
      "\u001b[1;31m---------------------------------------------------------------------------\u001b[0m",
      "\u001b[1;31mAttributeError\u001b[0m                            Traceback (most recent call last)",
      "Cell \u001b[1;32mIn[31], line 90\u001b[0m, in \u001b[0;36mgrafico.update_base\u001b[1;34m(self)\u001b[0m\n\u001b[0;32m     89\u001b[0m \u001b[38;5;28;01mdef\u001b[39;00m \u001b[38;5;21mupdate_base\u001b[39m(\u001b[38;5;28mself\u001b[39m): \u001b[38;5;66;03m#temperatura,potencia,velocidad\u001b[39;00m\n\u001b[1;32m---> 90\u001b[0m     \u001b[38;5;28;01mif\u001b[39;00m \u001b[38;5;28;43mself\u001b[39;49m\u001b[38;5;241;43m.\u001b[39;49m\u001b[43mgrabando\u001b[49m \u001b[38;5;241m==\u001b[39m \u001b[38;5;28;01mTrue\u001b[39;00m:\n\u001b[0;32m     91\u001b[0m         txtArduino \u001b[38;5;241m=\u001b[39m s\u001b[38;5;241m.\u001b[39mreadline()\u001b[38;5;241m.\u001b[39mdecode(\u001b[38;5;124m'\u001b[39m\u001b[38;5;124mascii\u001b[39m\u001b[38;5;124m'\u001b[39m)\n\u001b[0;32m     92\u001b[0m         datos \u001b[38;5;241m=\u001b[39m txtArduino\u001b[38;5;241m.\u001b[39msplit(\u001b[38;5;124m\"\u001b[39m\u001b[38;5;124m;\u001b[39m\u001b[38;5;124m\"\u001b[39m)\n",
      "\u001b[1;31mAttributeError\u001b[0m: 'grafico' object has no attribute 'grabando'"
     ]
    },
    {
     "ename": "AttributeError",
     "evalue": "'grafico' object has no attribute 'grabando'",
     "output_type": "error",
     "traceback": [
      "\u001b[1;31m---------------------------------------------------------------------------\u001b[0m",
      "\u001b[1;31mAttributeError\u001b[0m                            Traceback (most recent call last)",
      "Cell \u001b[1;32mIn[31], line 90\u001b[0m, in \u001b[0;36mgrafico.update_base\u001b[1;34m(self)\u001b[0m\n\u001b[0;32m     89\u001b[0m \u001b[38;5;28;01mdef\u001b[39;00m \u001b[38;5;21mupdate_base\u001b[39m(\u001b[38;5;28mself\u001b[39m): \u001b[38;5;66;03m#temperatura,potencia,velocidad\u001b[39;00m\n\u001b[1;32m---> 90\u001b[0m     \u001b[38;5;28;01mif\u001b[39;00m \u001b[38;5;28;43mself\u001b[39;49m\u001b[38;5;241;43m.\u001b[39;49m\u001b[43mgrabando\u001b[49m \u001b[38;5;241m==\u001b[39m \u001b[38;5;28;01mTrue\u001b[39;00m:\n\u001b[0;32m     91\u001b[0m         txtArduino \u001b[38;5;241m=\u001b[39m s\u001b[38;5;241m.\u001b[39mreadline()\u001b[38;5;241m.\u001b[39mdecode(\u001b[38;5;124m'\u001b[39m\u001b[38;5;124mascii\u001b[39m\u001b[38;5;124m'\u001b[39m)\n\u001b[0;32m     92\u001b[0m         datos \u001b[38;5;241m=\u001b[39m txtArduino\u001b[38;5;241m.\u001b[39msplit(\u001b[38;5;124m\"\u001b[39m\u001b[38;5;124m;\u001b[39m\u001b[38;5;124m\"\u001b[39m)\n",
      "\u001b[1;31mAttributeError\u001b[0m: 'grafico' object has no attribute 'grabando'"
     ]
    },
    {
     "ename": "AttributeError",
     "evalue": "'grafico' object has no attribute 'grabando'",
     "output_type": "error",
     "traceback": [
      "\u001b[1;31m---------------------------------------------------------------------------\u001b[0m",
      "\u001b[1;31mAttributeError\u001b[0m                            Traceback (most recent call last)",
      "Cell \u001b[1;32mIn[31], line 90\u001b[0m, in \u001b[0;36mgrafico.update_base\u001b[1;34m(self)\u001b[0m\n\u001b[0;32m     89\u001b[0m \u001b[38;5;28;01mdef\u001b[39;00m \u001b[38;5;21mupdate_base\u001b[39m(\u001b[38;5;28mself\u001b[39m): \u001b[38;5;66;03m#temperatura,potencia,velocidad\u001b[39;00m\n\u001b[1;32m---> 90\u001b[0m     \u001b[38;5;28;01mif\u001b[39;00m \u001b[38;5;28;43mself\u001b[39;49m\u001b[38;5;241;43m.\u001b[39;49m\u001b[43mgrabando\u001b[49m \u001b[38;5;241m==\u001b[39m \u001b[38;5;28;01mTrue\u001b[39;00m:\n\u001b[0;32m     91\u001b[0m         txtArduino \u001b[38;5;241m=\u001b[39m s\u001b[38;5;241m.\u001b[39mreadline()\u001b[38;5;241m.\u001b[39mdecode(\u001b[38;5;124m'\u001b[39m\u001b[38;5;124mascii\u001b[39m\u001b[38;5;124m'\u001b[39m)\n\u001b[0;32m     92\u001b[0m         datos \u001b[38;5;241m=\u001b[39m txtArduino\u001b[38;5;241m.\u001b[39msplit(\u001b[38;5;124m\"\u001b[39m\u001b[38;5;124m;\u001b[39m\u001b[38;5;124m\"\u001b[39m)\n",
      "\u001b[1;31mAttributeError\u001b[0m: 'grafico' object has no attribute 'grabando'"
     ]
    },
    {
     "ename": "AttributeError",
     "evalue": "'grafico' object has no attribute 'grabando'",
     "output_type": "error",
     "traceback": [
      "\u001b[1;31m---------------------------------------------------------------------------\u001b[0m",
      "\u001b[1;31mAttributeError\u001b[0m                            Traceback (most recent call last)",
      "Cell \u001b[1;32mIn[31], line 90\u001b[0m, in \u001b[0;36mgrafico.update_base\u001b[1;34m(self)\u001b[0m\n\u001b[0;32m     89\u001b[0m \u001b[38;5;28;01mdef\u001b[39;00m \u001b[38;5;21mupdate_base\u001b[39m(\u001b[38;5;28mself\u001b[39m): \u001b[38;5;66;03m#temperatura,potencia,velocidad\u001b[39;00m\n\u001b[1;32m---> 90\u001b[0m     \u001b[38;5;28;01mif\u001b[39;00m \u001b[38;5;28;43mself\u001b[39;49m\u001b[38;5;241;43m.\u001b[39;49m\u001b[43mgrabando\u001b[49m \u001b[38;5;241m==\u001b[39m \u001b[38;5;28;01mTrue\u001b[39;00m:\n\u001b[0;32m     91\u001b[0m         txtArduino \u001b[38;5;241m=\u001b[39m s\u001b[38;5;241m.\u001b[39mreadline()\u001b[38;5;241m.\u001b[39mdecode(\u001b[38;5;124m'\u001b[39m\u001b[38;5;124mascii\u001b[39m\u001b[38;5;124m'\u001b[39m)\n\u001b[0;32m     92\u001b[0m         datos \u001b[38;5;241m=\u001b[39m txtArduino\u001b[38;5;241m.\u001b[39msplit(\u001b[38;5;124m\"\u001b[39m\u001b[38;5;124m;\u001b[39m\u001b[38;5;124m\"\u001b[39m)\n",
      "\u001b[1;31mAttributeError\u001b[0m: 'grafico' object has no attribute 'grabando'"
     ]
    },
    {
     "ename": "AttributeError",
     "evalue": "'grafico' object has no attribute 'grabando'",
     "output_type": "error",
     "traceback": [
      "\u001b[1;31m---------------------------------------------------------------------------\u001b[0m",
      "\u001b[1;31mAttributeError\u001b[0m                            Traceback (most recent call last)",
      "Cell \u001b[1;32mIn[31], line 90\u001b[0m, in \u001b[0;36mgrafico.update_base\u001b[1;34m(self)\u001b[0m\n\u001b[0;32m     89\u001b[0m \u001b[38;5;28;01mdef\u001b[39;00m \u001b[38;5;21mupdate_base\u001b[39m(\u001b[38;5;28mself\u001b[39m): \u001b[38;5;66;03m#temperatura,potencia,velocidad\u001b[39;00m\n\u001b[1;32m---> 90\u001b[0m     \u001b[38;5;28;01mif\u001b[39;00m \u001b[38;5;28;43mself\u001b[39;49m\u001b[38;5;241;43m.\u001b[39;49m\u001b[43mgrabando\u001b[49m \u001b[38;5;241m==\u001b[39m \u001b[38;5;28;01mTrue\u001b[39;00m:\n\u001b[0;32m     91\u001b[0m         txtArduino \u001b[38;5;241m=\u001b[39m s\u001b[38;5;241m.\u001b[39mreadline()\u001b[38;5;241m.\u001b[39mdecode(\u001b[38;5;124m'\u001b[39m\u001b[38;5;124mascii\u001b[39m\u001b[38;5;124m'\u001b[39m)\n\u001b[0;32m     92\u001b[0m         datos \u001b[38;5;241m=\u001b[39m txtArduino\u001b[38;5;241m.\u001b[39msplit(\u001b[38;5;124m\"\u001b[39m\u001b[38;5;124m;\u001b[39m\u001b[38;5;124m\"\u001b[39m)\n",
      "\u001b[1;31mAttributeError\u001b[0m: 'grafico' object has no attribute 'grabando'"
     ]
    },
    {
     "ename": "AttributeError",
     "evalue": "'grafico' object has no attribute 'grabando'",
     "output_type": "error",
     "traceback": [
      "\u001b[1;31m---------------------------------------------------------------------------\u001b[0m",
      "\u001b[1;31mAttributeError\u001b[0m                            Traceback (most recent call last)",
      "Cell \u001b[1;32mIn[31], line 90\u001b[0m, in \u001b[0;36mgrafico.update_base\u001b[1;34m(self)\u001b[0m\n\u001b[0;32m     89\u001b[0m \u001b[38;5;28;01mdef\u001b[39;00m \u001b[38;5;21mupdate_base\u001b[39m(\u001b[38;5;28mself\u001b[39m): \u001b[38;5;66;03m#temperatura,potencia,velocidad\u001b[39;00m\n\u001b[1;32m---> 90\u001b[0m     \u001b[38;5;28;01mif\u001b[39;00m \u001b[38;5;28;43mself\u001b[39;49m\u001b[38;5;241;43m.\u001b[39;49m\u001b[43mgrabando\u001b[49m \u001b[38;5;241m==\u001b[39m \u001b[38;5;28;01mTrue\u001b[39;00m:\n\u001b[0;32m     91\u001b[0m         txtArduino \u001b[38;5;241m=\u001b[39m s\u001b[38;5;241m.\u001b[39mreadline()\u001b[38;5;241m.\u001b[39mdecode(\u001b[38;5;124m'\u001b[39m\u001b[38;5;124mascii\u001b[39m\u001b[38;5;124m'\u001b[39m)\n\u001b[0;32m     92\u001b[0m         datos \u001b[38;5;241m=\u001b[39m txtArduino\u001b[38;5;241m.\u001b[39msplit(\u001b[38;5;124m\"\u001b[39m\u001b[38;5;124m;\u001b[39m\u001b[38;5;124m\"\u001b[39m)\n",
      "\u001b[1;31mAttributeError\u001b[0m: 'grafico' object has no attribute 'grabando'"
     ]
    },
    {
     "ename": "AttributeError",
     "evalue": "'grafico' object has no attribute 'grabando'",
     "output_type": "error",
     "traceback": [
      "\u001b[1;31m---------------------------------------------------------------------------\u001b[0m",
      "\u001b[1;31mAttributeError\u001b[0m                            Traceback (most recent call last)",
      "Cell \u001b[1;32mIn[31], line 90\u001b[0m, in \u001b[0;36mgrafico.update_base\u001b[1;34m(self)\u001b[0m\n\u001b[0;32m     89\u001b[0m \u001b[38;5;28;01mdef\u001b[39;00m \u001b[38;5;21mupdate_base\u001b[39m(\u001b[38;5;28mself\u001b[39m): \u001b[38;5;66;03m#temperatura,potencia,velocidad\u001b[39;00m\n\u001b[1;32m---> 90\u001b[0m     \u001b[38;5;28;01mif\u001b[39;00m \u001b[38;5;28;43mself\u001b[39;49m\u001b[38;5;241;43m.\u001b[39;49m\u001b[43mgrabando\u001b[49m \u001b[38;5;241m==\u001b[39m \u001b[38;5;28;01mTrue\u001b[39;00m:\n\u001b[0;32m     91\u001b[0m         txtArduino \u001b[38;5;241m=\u001b[39m s\u001b[38;5;241m.\u001b[39mreadline()\u001b[38;5;241m.\u001b[39mdecode(\u001b[38;5;124m'\u001b[39m\u001b[38;5;124mascii\u001b[39m\u001b[38;5;124m'\u001b[39m)\n\u001b[0;32m     92\u001b[0m         datos \u001b[38;5;241m=\u001b[39m txtArduino\u001b[38;5;241m.\u001b[39msplit(\u001b[38;5;124m\"\u001b[39m\u001b[38;5;124m;\u001b[39m\u001b[38;5;124m\"\u001b[39m)\n",
      "\u001b[1;31mAttributeError\u001b[0m: 'grafico' object has no attribute 'grabando'"
     ]
    },
    {
     "ename": "AttributeError",
     "evalue": "'grafico' object has no attribute 'grabando'",
     "output_type": "error",
     "traceback": [
      "\u001b[1;31m---------------------------------------------------------------------------\u001b[0m",
      "\u001b[1;31mAttributeError\u001b[0m                            Traceback (most recent call last)",
      "Cell \u001b[1;32mIn[31], line 90\u001b[0m, in \u001b[0;36mgrafico.update_base\u001b[1;34m(self)\u001b[0m\n\u001b[0;32m     89\u001b[0m \u001b[38;5;28;01mdef\u001b[39;00m \u001b[38;5;21mupdate_base\u001b[39m(\u001b[38;5;28mself\u001b[39m): \u001b[38;5;66;03m#temperatura,potencia,velocidad\u001b[39;00m\n\u001b[1;32m---> 90\u001b[0m     \u001b[38;5;28;01mif\u001b[39;00m \u001b[38;5;28;43mself\u001b[39;49m\u001b[38;5;241;43m.\u001b[39;49m\u001b[43mgrabando\u001b[49m \u001b[38;5;241m==\u001b[39m \u001b[38;5;28;01mTrue\u001b[39;00m:\n\u001b[0;32m     91\u001b[0m         txtArduino \u001b[38;5;241m=\u001b[39m s\u001b[38;5;241m.\u001b[39mreadline()\u001b[38;5;241m.\u001b[39mdecode(\u001b[38;5;124m'\u001b[39m\u001b[38;5;124mascii\u001b[39m\u001b[38;5;124m'\u001b[39m)\n\u001b[0;32m     92\u001b[0m         datos \u001b[38;5;241m=\u001b[39m txtArduino\u001b[38;5;241m.\u001b[39msplit(\u001b[38;5;124m\"\u001b[39m\u001b[38;5;124m;\u001b[39m\u001b[38;5;124m\"\u001b[39m)\n",
      "\u001b[1;31mAttributeError\u001b[0m: 'grafico' object has no attribute 'grabando'"
     ]
    },
    {
     "ename": "AttributeError",
     "evalue": "'grafico' object has no attribute 'grabando'",
     "output_type": "error",
     "traceback": [
      "\u001b[1;31m---------------------------------------------------------------------------\u001b[0m",
      "\u001b[1;31mAttributeError\u001b[0m                            Traceback (most recent call last)",
      "Cell \u001b[1;32mIn[31], line 90\u001b[0m, in \u001b[0;36mgrafico.update_base\u001b[1;34m(self)\u001b[0m\n\u001b[0;32m     89\u001b[0m \u001b[38;5;28;01mdef\u001b[39;00m \u001b[38;5;21mupdate_base\u001b[39m(\u001b[38;5;28mself\u001b[39m): \u001b[38;5;66;03m#temperatura,potencia,velocidad\u001b[39;00m\n\u001b[1;32m---> 90\u001b[0m     \u001b[38;5;28;01mif\u001b[39;00m \u001b[38;5;28;43mself\u001b[39;49m\u001b[38;5;241;43m.\u001b[39;49m\u001b[43mgrabando\u001b[49m \u001b[38;5;241m==\u001b[39m \u001b[38;5;28;01mTrue\u001b[39;00m:\n\u001b[0;32m     91\u001b[0m         txtArduino \u001b[38;5;241m=\u001b[39m s\u001b[38;5;241m.\u001b[39mreadline()\u001b[38;5;241m.\u001b[39mdecode(\u001b[38;5;124m'\u001b[39m\u001b[38;5;124mascii\u001b[39m\u001b[38;5;124m'\u001b[39m)\n\u001b[0;32m     92\u001b[0m         datos \u001b[38;5;241m=\u001b[39m txtArduino\u001b[38;5;241m.\u001b[39msplit(\u001b[38;5;124m\"\u001b[39m\u001b[38;5;124m;\u001b[39m\u001b[38;5;124m\"\u001b[39m)\n",
      "\u001b[1;31mAttributeError\u001b[0m: 'grafico' object has no attribute 'grabando'"
     ]
    },
    {
     "ename": "AttributeError",
     "evalue": "'grafico' object has no attribute 'grabando'",
     "output_type": "error",
     "traceback": [
      "\u001b[1;31m---------------------------------------------------------------------------\u001b[0m",
      "\u001b[1;31mAttributeError\u001b[0m                            Traceback (most recent call last)",
      "Cell \u001b[1;32mIn[31], line 90\u001b[0m, in \u001b[0;36mgrafico.update_base\u001b[1;34m(self)\u001b[0m\n\u001b[0;32m     89\u001b[0m \u001b[38;5;28;01mdef\u001b[39;00m \u001b[38;5;21mupdate_base\u001b[39m(\u001b[38;5;28mself\u001b[39m): \u001b[38;5;66;03m#temperatura,potencia,velocidad\u001b[39;00m\n\u001b[1;32m---> 90\u001b[0m     \u001b[38;5;28;01mif\u001b[39;00m \u001b[38;5;28;43mself\u001b[39;49m\u001b[38;5;241;43m.\u001b[39;49m\u001b[43mgrabando\u001b[49m \u001b[38;5;241m==\u001b[39m \u001b[38;5;28;01mTrue\u001b[39;00m:\n\u001b[0;32m     91\u001b[0m         txtArduino \u001b[38;5;241m=\u001b[39m s\u001b[38;5;241m.\u001b[39mreadline()\u001b[38;5;241m.\u001b[39mdecode(\u001b[38;5;124m'\u001b[39m\u001b[38;5;124mascii\u001b[39m\u001b[38;5;124m'\u001b[39m)\n\u001b[0;32m     92\u001b[0m         datos \u001b[38;5;241m=\u001b[39m txtArduino\u001b[38;5;241m.\u001b[39msplit(\u001b[38;5;124m\"\u001b[39m\u001b[38;5;124m;\u001b[39m\u001b[38;5;124m\"\u001b[39m)\n",
      "\u001b[1;31mAttributeError\u001b[0m: 'grafico' object has no attribute 'grabando'"
     ]
    },
    {
     "ename": "AttributeError",
     "evalue": "'grafico' object has no attribute 'grabando'",
     "output_type": "error",
     "traceback": [
      "\u001b[1;31m---------------------------------------------------------------------------\u001b[0m",
      "\u001b[1;31mAttributeError\u001b[0m                            Traceback (most recent call last)",
      "Cell \u001b[1;32mIn[31], line 90\u001b[0m, in \u001b[0;36mgrafico.update_base\u001b[1;34m(self)\u001b[0m\n\u001b[0;32m     89\u001b[0m \u001b[38;5;28;01mdef\u001b[39;00m \u001b[38;5;21mupdate_base\u001b[39m(\u001b[38;5;28mself\u001b[39m): \u001b[38;5;66;03m#temperatura,potencia,velocidad\u001b[39;00m\n\u001b[1;32m---> 90\u001b[0m     \u001b[38;5;28;01mif\u001b[39;00m \u001b[38;5;28;43mself\u001b[39;49m\u001b[38;5;241;43m.\u001b[39;49m\u001b[43mgrabando\u001b[49m \u001b[38;5;241m==\u001b[39m \u001b[38;5;28;01mTrue\u001b[39;00m:\n\u001b[0;32m     91\u001b[0m         txtArduino \u001b[38;5;241m=\u001b[39m s\u001b[38;5;241m.\u001b[39mreadline()\u001b[38;5;241m.\u001b[39mdecode(\u001b[38;5;124m'\u001b[39m\u001b[38;5;124mascii\u001b[39m\u001b[38;5;124m'\u001b[39m)\n\u001b[0;32m     92\u001b[0m         datos \u001b[38;5;241m=\u001b[39m txtArduino\u001b[38;5;241m.\u001b[39msplit(\u001b[38;5;124m\"\u001b[39m\u001b[38;5;124m;\u001b[39m\u001b[38;5;124m\"\u001b[39m)\n",
      "\u001b[1;31mAttributeError\u001b[0m: 'grafico' object has no attribute 'grabando'"
     ]
    },
    {
     "ename": "AttributeError",
     "evalue": "'grafico' object has no attribute 'grabando'",
     "output_type": "error",
     "traceback": [
      "\u001b[1;31m---------------------------------------------------------------------------\u001b[0m",
      "\u001b[1;31mAttributeError\u001b[0m                            Traceback (most recent call last)",
      "Cell \u001b[1;32mIn[31], line 90\u001b[0m, in \u001b[0;36mgrafico.update_base\u001b[1;34m(self)\u001b[0m\n\u001b[0;32m     89\u001b[0m \u001b[38;5;28;01mdef\u001b[39;00m \u001b[38;5;21mupdate_base\u001b[39m(\u001b[38;5;28mself\u001b[39m): \u001b[38;5;66;03m#temperatura,potencia,velocidad\u001b[39;00m\n\u001b[1;32m---> 90\u001b[0m     \u001b[38;5;28;01mif\u001b[39;00m \u001b[38;5;28;43mself\u001b[39;49m\u001b[38;5;241;43m.\u001b[39;49m\u001b[43mgrabando\u001b[49m \u001b[38;5;241m==\u001b[39m \u001b[38;5;28;01mTrue\u001b[39;00m:\n\u001b[0;32m     91\u001b[0m         txtArduino \u001b[38;5;241m=\u001b[39m s\u001b[38;5;241m.\u001b[39mreadline()\u001b[38;5;241m.\u001b[39mdecode(\u001b[38;5;124m'\u001b[39m\u001b[38;5;124mascii\u001b[39m\u001b[38;5;124m'\u001b[39m)\n\u001b[0;32m     92\u001b[0m         datos \u001b[38;5;241m=\u001b[39m txtArduino\u001b[38;5;241m.\u001b[39msplit(\u001b[38;5;124m\"\u001b[39m\u001b[38;5;124m;\u001b[39m\u001b[38;5;124m\"\u001b[39m)\n",
      "\u001b[1;31mAttributeError\u001b[0m: 'grafico' object has no attribute 'grabando'"
     ]
    },
    {
     "ename": "AttributeError",
     "evalue": "'grafico' object has no attribute 'grabando'",
     "output_type": "error",
     "traceback": [
      "\u001b[1;31m---------------------------------------------------------------------------\u001b[0m",
      "\u001b[1;31mAttributeError\u001b[0m                            Traceback (most recent call last)",
      "Cell \u001b[1;32mIn[31], line 90\u001b[0m, in \u001b[0;36mgrafico.update_base\u001b[1;34m(self)\u001b[0m\n\u001b[0;32m     89\u001b[0m \u001b[38;5;28;01mdef\u001b[39;00m \u001b[38;5;21mupdate_base\u001b[39m(\u001b[38;5;28mself\u001b[39m): \u001b[38;5;66;03m#temperatura,potencia,velocidad\u001b[39;00m\n\u001b[1;32m---> 90\u001b[0m     \u001b[38;5;28;01mif\u001b[39;00m \u001b[38;5;28;43mself\u001b[39;49m\u001b[38;5;241;43m.\u001b[39;49m\u001b[43mgrabando\u001b[49m \u001b[38;5;241m==\u001b[39m \u001b[38;5;28;01mTrue\u001b[39;00m:\n\u001b[0;32m     91\u001b[0m         txtArduino \u001b[38;5;241m=\u001b[39m s\u001b[38;5;241m.\u001b[39mreadline()\u001b[38;5;241m.\u001b[39mdecode(\u001b[38;5;124m'\u001b[39m\u001b[38;5;124mascii\u001b[39m\u001b[38;5;124m'\u001b[39m)\n\u001b[0;32m     92\u001b[0m         datos \u001b[38;5;241m=\u001b[39m txtArduino\u001b[38;5;241m.\u001b[39msplit(\u001b[38;5;124m\"\u001b[39m\u001b[38;5;124m;\u001b[39m\u001b[38;5;124m\"\u001b[39m)\n",
      "\u001b[1;31mAttributeError\u001b[0m: 'grafico' object has no attribute 'grabando'"
     ]
    },
    {
     "ename": "AttributeError",
     "evalue": "'grafico' object has no attribute 'grabando'",
     "output_type": "error",
     "traceback": [
      "\u001b[1;31m---------------------------------------------------------------------------\u001b[0m",
      "\u001b[1;31mAttributeError\u001b[0m                            Traceback (most recent call last)",
      "Cell \u001b[1;32mIn[31], line 90\u001b[0m, in \u001b[0;36mgrafico.update_base\u001b[1;34m(self)\u001b[0m\n\u001b[0;32m     89\u001b[0m \u001b[38;5;28;01mdef\u001b[39;00m \u001b[38;5;21mupdate_base\u001b[39m(\u001b[38;5;28mself\u001b[39m): \u001b[38;5;66;03m#temperatura,potencia,velocidad\u001b[39;00m\n\u001b[1;32m---> 90\u001b[0m     \u001b[38;5;28;01mif\u001b[39;00m \u001b[38;5;28;43mself\u001b[39;49m\u001b[38;5;241;43m.\u001b[39;49m\u001b[43mgrabando\u001b[49m \u001b[38;5;241m==\u001b[39m \u001b[38;5;28;01mTrue\u001b[39;00m:\n\u001b[0;32m     91\u001b[0m         txtArduino \u001b[38;5;241m=\u001b[39m s\u001b[38;5;241m.\u001b[39mreadline()\u001b[38;5;241m.\u001b[39mdecode(\u001b[38;5;124m'\u001b[39m\u001b[38;5;124mascii\u001b[39m\u001b[38;5;124m'\u001b[39m)\n\u001b[0;32m     92\u001b[0m         datos \u001b[38;5;241m=\u001b[39m txtArduino\u001b[38;5;241m.\u001b[39msplit(\u001b[38;5;124m\"\u001b[39m\u001b[38;5;124m;\u001b[39m\u001b[38;5;124m\"\u001b[39m)\n",
      "\u001b[1;31mAttributeError\u001b[0m: 'grafico' object has no attribute 'grabando'"
     ]
    },
    {
     "ename": "AttributeError",
     "evalue": "'grafico' object has no attribute 'grabando'",
     "output_type": "error",
     "traceback": [
      "\u001b[1;31m---------------------------------------------------------------------------\u001b[0m",
      "\u001b[1;31mAttributeError\u001b[0m                            Traceback (most recent call last)",
      "Cell \u001b[1;32mIn[31], line 90\u001b[0m, in \u001b[0;36mgrafico.update_base\u001b[1;34m(self)\u001b[0m\n\u001b[0;32m     89\u001b[0m \u001b[38;5;28;01mdef\u001b[39;00m \u001b[38;5;21mupdate_base\u001b[39m(\u001b[38;5;28mself\u001b[39m): \u001b[38;5;66;03m#temperatura,potencia,velocidad\u001b[39;00m\n\u001b[1;32m---> 90\u001b[0m     \u001b[38;5;28;01mif\u001b[39;00m \u001b[38;5;28;43mself\u001b[39;49m\u001b[38;5;241;43m.\u001b[39;49m\u001b[43mgrabando\u001b[49m \u001b[38;5;241m==\u001b[39m \u001b[38;5;28;01mTrue\u001b[39;00m:\n\u001b[0;32m     91\u001b[0m         txtArduino \u001b[38;5;241m=\u001b[39m s\u001b[38;5;241m.\u001b[39mreadline()\u001b[38;5;241m.\u001b[39mdecode(\u001b[38;5;124m'\u001b[39m\u001b[38;5;124mascii\u001b[39m\u001b[38;5;124m'\u001b[39m)\n\u001b[0;32m     92\u001b[0m         datos \u001b[38;5;241m=\u001b[39m txtArduino\u001b[38;5;241m.\u001b[39msplit(\u001b[38;5;124m\"\u001b[39m\u001b[38;5;124m;\u001b[39m\u001b[38;5;124m\"\u001b[39m)\n",
      "\u001b[1;31mAttributeError\u001b[0m: 'grafico' object has no attribute 'grabando'"
     ]
    },
    {
     "ename": "AttributeError",
     "evalue": "'grafico' object has no attribute 'grabando'",
     "output_type": "error",
     "traceback": [
      "\u001b[1;31m---------------------------------------------------------------------------\u001b[0m",
      "\u001b[1;31mAttributeError\u001b[0m                            Traceback (most recent call last)",
      "Cell \u001b[1;32mIn[31], line 90\u001b[0m, in \u001b[0;36mgrafico.update_base\u001b[1;34m(self)\u001b[0m\n\u001b[0;32m     89\u001b[0m \u001b[38;5;28;01mdef\u001b[39;00m \u001b[38;5;21mupdate_base\u001b[39m(\u001b[38;5;28mself\u001b[39m): \u001b[38;5;66;03m#temperatura,potencia,velocidad\u001b[39;00m\n\u001b[1;32m---> 90\u001b[0m     \u001b[38;5;28;01mif\u001b[39;00m \u001b[38;5;28;43mself\u001b[39;49m\u001b[38;5;241;43m.\u001b[39;49m\u001b[43mgrabando\u001b[49m \u001b[38;5;241m==\u001b[39m \u001b[38;5;28;01mTrue\u001b[39;00m:\n\u001b[0;32m     91\u001b[0m         txtArduino \u001b[38;5;241m=\u001b[39m s\u001b[38;5;241m.\u001b[39mreadline()\u001b[38;5;241m.\u001b[39mdecode(\u001b[38;5;124m'\u001b[39m\u001b[38;5;124mascii\u001b[39m\u001b[38;5;124m'\u001b[39m)\n\u001b[0;32m     92\u001b[0m         datos \u001b[38;5;241m=\u001b[39m txtArduino\u001b[38;5;241m.\u001b[39msplit(\u001b[38;5;124m\"\u001b[39m\u001b[38;5;124m;\u001b[39m\u001b[38;5;124m\"\u001b[39m)\n",
      "\u001b[1;31mAttributeError\u001b[0m: 'grafico' object has no attribute 'grabando'"
     ]
    },
    {
     "ename": "AttributeError",
     "evalue": "'grafico' object has no attribute 'grabando'",
     "output_type": "error",
     "traceback": [
      "\u001b[1;31m---------------------------------------------------------------------------\u001b[0m",
      "\u001b[1;31mAttributeError\u001b[0m                            Traceback (most recent call last)",
      "Cell \u001b[1;32mIn[31], line 90\u001b[0m, in \u001b[0;36mgrafico.update_base\u001b[1;34m(self)\u001b[0m\n\u001b[0;32m     89\u001b[0m \u001b[38;5;28;01mdef\u001b[39;00m \u001b[38;5;21mupdate_base\u001b[39m(\u001b[38;5;28mself\u001b[39m): \u001b[38;5;66;03m#temperatura,potencia,velocidad\u001b[39;00m\n\u001b[1;32m---> 90\u001b[0m     \u001b[38;5;28;01mif\u001b[39;00m \u001b[38;5;28;43mself\u001b[39;49m\u001b[38;5;241;43m.\u001b[39;49m\u001b[43mgrabando\u001b[49m \u001b[38;5;241m==\u001b[39m \u001b[38;5;28;01mTrue\u001b[39;00m:\n\u001b[0;32m     91\u001b[0m         txtArduino \u001b[38;5;241m=\u001b[39m s\u001b[38;5;241m.\u001b[39mreadline()\u001b[38;5;241m.\u001b[39mdecode(\u001b[38;5;124m'\u001b[39m\u001b[38;5;124mascii\u001b[39m\u001b[38;5;124m'\u001b[39m)\n\u001b[0;32m     92\u001b[0m         datos \u001b[38;5;241m=\u001b[39m txtArduino\u001b[38;5;241m.\u001b[39msplit(\u001b[38;5;124m\"\u001b[39m\u001b[38;5;124m;\u001b[39m\u001b[38;5;124m\"\u001b[39m)\n",
      "\u001b[1;31mAttributeError\u001b[0m: 'grafico' object has no attribute 'grabando'"
     ]
    },
    {
     "ename": "AttributeError",
     "evalue": "'grafico' object has no attribute 'grabando'",
     "output_type": "error",
     "traceback": [
      "\u001b[1;31m---------------------------------------------------------------------------\u001b[0m",
      "\u001b[1;31mAttributeError\u001b[0m                            Traceback (most recent call last)",
      "Cell \u001b[1;32mIn[31], line 90\u001b[0m, in \u001b[0;36mgrafico.update_base\u001b[1;34m(self)\u001b[0m\n\u001b[0;32m     89\u001b[0m \u001b[38;5;28;01mdef\u001b[39;00m \u001b[38;5;21mupdate_base\u001b[39m(\u001b[38;5;28mself\u001b[39m): \u001b[38;5;66;03m#temperatura,potencia,velocidad\u001b[39;00m\n\u001b[1;32m---> 90\u001b[0m     \u001b[38;5;28;01mif\u001b[39;00m \u001b[38;5;28;43mself\u001b[39;49m\u001b[38;5;241;43m.\u001b[39;49m\u001b[43mgrabando\u001b[49m \u001b[38;5;241m==\u001b[39m \u001b[38;5;28;01mTrue\u001b[39;00m:\n\u001b[0;32m     91\u001b[0m         txtArduino \u001b[38;5;241m=\u001b[39m s\u001b[38;5;241m.\u001b[39mreadline()\u001b[38;5;241m.\u001b[39mdecode(\u001b[38;5;124m'\u001b[39m\u001b[38;5;124mascii\u001b[39m\u001b[38;5;124m'\u001b[39m)\n\u001b[0;32m     92\u001b[0m         datos \u001b[38;5;241m=\u001b[39m txtArduino\u001b[38;5;241m.\u001b[39msplit(\u001b[38;5;124m\"\u001b[39m\u001b[38;5;124m;\u001b[39m\u001b[38;5;124m\"\u001b[39m)\n",
      "\u001b[1;31mAttributeError\u001b[0m: 'grafico' object has no attribute 'grabando'"
     ]
    },
    {
     "ename": "AttributeError",
     "evalue": "'grafico' object has no attribute 'grabando'",
     "output_type": "error",
     "traceback": [
      "\u001b[1;31m---------------------------------------------------------------------------\u001b[0m",
      "\u001b[1;31mAttributeError\u001b[0m                            Traceback (most recent call last)",
      "Cell \u001b[1;32mIn[31], line 90\u001b[0m, in \u001b[0;36mgrafico.update_base\u001b[1;34m(self)\u001b[0m\n\u001b[0;32m     89\u001b[0m \u001b[38;5;28;01mdef\u001b[39;00m \u001b[38;5;21mupdate_base\u001b[39m(\u001b[38;5;28mself\u001b[39m): \u001b[38;5;66;03m#temperatura,potencia,velocidad\u001b[39;00m\n\u001b[1;32m---> 90\u001b[0m     \u001b[38;5;28;01mif\u001b[39;00m \u001b[38;5;28;43mself\u001b[39;49m\u001b[38;5;241;43m.\u001b[39;49m\u001b[43mgrabando\u001b[49m \u001b[38;5;241m==\u001b[39m \u001b[38;5;28;01mTrue\u001b[39;00m:\n\u001b[0;32m     91\u001b[0m         txtArduino \u001b[38;5;241m=\u001b[39m s\u001b[38;5;241m.\u001b[39mreadline()\u001b[38;5;241m.\u001b[39mdecode(\u001b[38;5;124m'\u001b[39m\u001b[38;5;124mascii\u001b[39m\u001b[38;5;124m'\u001b[39m)\n\u001b[0;32m     92\u001b[0m         datos \u001b[38;5;241m=\u001b[39m txtArduino\u001b[38;5;241m.\u001b[39msplit(\u001b[38;5;124m\"\u001b[39m\u001b[38;5;124m;\u001b[39m\u001b[38;5;124m\"\u001b[39m)\n",
      "\u001b[1;31mAttributeError\u001b[0m: 'grafico' object has no attribute 'grabando'"
     ]
    },
    {
     "ename": "AttributeError",
     "evalue": "'grafico' object has no attribute 'grabando'",
     "output_type": "error",
     "traceback": [
      "\u001b[1;31m---------------------------------------------------------------------------\u001b[0m",
      "\u001b[1;31mAttributeError\u001b[0m                            Traceback (most recent call last)",
      "Cell \u001b[1;32mIn[31], line 90\u001b[0m, in \u001b[0;36mgrafico.update_base\u001b[1;34m(self)\u001b[0m\n\u001b[0;32m     89\u001b[0m \u001b[38;5;28;01mdef\u001b[39;00m \u001b[38;5;21mupdate_base\u001b[39m(\u001b[38;5;28mself\u001b[39m): \u001b[38;5;66;03m#temperatura,potencia,velocidad\u001b[39;00m\n\u001b[1;32m---> 90\u001b[0m     \u001b[38;5;28;01mif\u001b[39;00m \u001b[38;5;28;43mself\u001b[39;49m\u001b[38;5;241;43m.\u001b[39;49m\u001b[43mgrabando\u001b[49m \u001b[38;5;241m==\u001b[39m \u001b[38;5;28;01mTrue\u001b[39;00m:\n\u001b[0;32m     91\u001b[0m         txtArduino \u001b[38;5;241m=\u001b[39m s\u001b[38;5;241m.\u001b[39mreadline()\u001b[38;5;241m.\u001b[39mdecode(\u001b[38;5;124m'\u001b[39m\u001b[38;5;124mascii\u001b[39m\u001b[38;5;124m'\u001b[39m)\n\u001b[0;32m     92\u001b[0m         datos \u001b[38;5;241m=\u001b[39m txtArduino\u001b[38;5;241m.\u001b[39msplit(\u001b[38;5;124m\"\u001b[39m\u001b[38;5;124m;\u001b[39m\u001b[38;5;124m\"\u001b[39m)\n",
      "\u001b[1;31mAttributeError\u001b[0m: 'grafico' object has no attribute 'grabando'"
     ]
    },
    {
     "ename": "AttributeError",
     "evalue": "'grafico' object has no attribute 'grabando'",
     "output_type": "error",
     "traceback": [
      "\u001b[1;31m---------------------------------------------------------------------------\u001b[0m",
      "\u001b[1;31mAttributeError\u001b[0m                            Traceback (most recent call last)",
      "Cell \u001b[1;32mIn[31], line 90\u001b[0m, in \u001b[0;36mgrafico.update_base\u001b[1;34m(self)\u001b[0m\n\u001b[0;32m     89\u001b[0m \u001b[38;5;28;01mdef\u001b[39;00m \u001b[38;5;21mupdate_base\u001b[39m(\u001b[38;5;28mself\u001b[39m): \u001b[38;5;66;03m#temperatura,potencia,velocidad\u001b[39;00m\n\u001b[1;32m---> 90\u001b[0m     \u001b[38;5;28;01mif\u001b[39;00m \u001b[38;5;28;43mself\u001b[39;49m\u001b[38;5;241;43m.\u001b[39;49m\u001b[43mgrabando\u001b[49m \u001b[38;5;241m==\u001b[39m \u001b[38;5;28;01mTrue\u001b[39;00m:\n\u001b[0;32m     91\u001b[0m         txtArduino \u001b[38;5;241m=\u001b[39m s\u001b[38;5;241m.\u001b[39mreadline()\u001b[38;5;241m.\u001b[39mdecode(\u001b[38;5;124m'\u001b[39m\u001b[38;5;124mascii\u001b[39m\u001b[38;5;124m'\u001b[39m)\n\u001b[0;32m     92\u001b[0m         datos \u001b[38;5;241m=\u001b[39m txtArduino\u001b[38;5;241m.\u001b[39msplit(\u001b[38;5;124m\"\u001b[39m\u001b[38;5;124m;\u001b[39m\u001b[38;5;124m\"\u001b[39m)\n",
      "\u001b[1;31mAttributeError\u001b[0m: 'grafico' object has no attribute 'grabando'"
     ]
    },
    {
     "ename": "AttributeError",
     "evalue": "'grafico' object has no attribute 'grabando'",
     "output_type": "error",
     "traceback": [
      "\u001b[1;31m---------------------------------------------------------------------------\u001b[0m",
      "\u001b[1;31mAttributeError\u001b[0m                            Traceback (most recent call last)",
      "Cell \u001b[1;32mIn[31], line 90\u001b[0m, in \u001b[0;36mgrafico.update_base\u001b[1;34m(self)\u001b[0m\n\u001b[0;32m     89\u001b[0m \u001b[38;5;28;01mdef\u001b[39;00m \u001b[38;5;21mupdate_base\u001b[39m(\u001b[38;5;28mself\u001b[39m): \u001b[38;5;66;03m#temperatura,potencia,velocidad\u001b[39;00m\n\u001b[1;32m---> 90\u001b[0m     \u001b[38;5;28;01mif\u001b[39;00m \u001b[38;5;28;43mself\u001b[39;49m\u001b[38;5;241;43m.\u001b[39;49m\u001b[43mgrabando\u001b[49m \u001b[38;5;241m==\u001b[39m \u001b[38;5;28;01mTrue\u001b[39;00m:\n\u001b[0;32m     91\u001b[0m         txtArduino \u001b[38;5;241m=\u001b[39m s\u001b[38;5;241m.\u001b[39mreadline()\u001b[38;5;241m.\u001b[39mdecode(\u001b[38;5;124m'\u001b[39m\u001b[38;5;124mascii\u001b[39m\u001b[38;5;124m'\u001b[39m)\n\u001b[0;32m     92\u001b[0m         datos \u001b[38;5;241m=\u001b[39m txtArduino\u001b[38;5;241m.\u001b[39msplit(\u001b[38;5;124m\"\u001b[39m\u001b[38;5;124m;\u001b[39m\u001b[38;5;124m\"\u001b[39m)\n",
      "\u001b[1;31mAttributeError\u001b[0m: 'grafico' object has no attribute 'grabando'"
     ]
    },
    {
     "ename": "AttributeError",
     "evalue": "'grafico' object has no attribute 'grabando'",
     "output_type": "error",
     "traceback": [
      "\u001b[1;31m---------------------------------------------------------------------------\u001b[0m",
      "\u001b[1;31mAttributeError\u001b[0m                            Traceback (most recent call last)",
      "Cell \u001b[1;32mIn[31], line 90\u001b[0m, in \u001b[0;36mgrafico.update_base\u001b[1;34m(self)\u001b[0m\n\u001b[0;32m     89\u001b[0m \u001b[38;5;28;01mdef\u001b[39;00m \u001b[38;5;21mupdate_base\u001b[39m(\u001b[38;5;28mself\u001b[39m): \u001b[38;5;66;03m#temperatura,potencia,velocidad\u001b[39;00m\n\u001b[1;32m---> 90\u001b[0m     \u001b[38;5;28;01mif\u001b[39;00m \u001b[38;5;28;43mself\u001b[39;49m\u001b[38;5;241;43m.\u001b[39;49m\u001b[43mgrabando\u001b[49m \u001b[38;5;241m==\u001b[39m \u001b[38;5;28;01mTrue\u001b[39;00m:\n\u001b[0;32m     91\u001b[0m         txtArduino \u001b[38;5;241m=\u001b[39m s\u001b[38;5;241m.\u001b[39mreadline()\u001b[38;5;241m.\u001b[39mdecode(\u001b[38;5;124m'\u001b[39m\u001b[38;5;124mascii\u001b[39m\u001b[38;5;124m'\u001b[39m)\n\u001b[0;32m     92\u001b[0m         datos \u001b[38;5;241m=\u001b[39m txtArduino\u001b[38;5;241m.\u001b[39msplit(\u001b[38;5;124m\"\u001b[39m\u001b[38;5;124m;\u001b[39m\u001b[38;5;124m\"\u001b[39m)\n",
      "\u001b[1;31mAttributeError\u001b[0m: 'grafico' object has no attribute 'grabando'"
     ]
    },
    {
     "ename": "AttributeError",
     "evalue": "'grafico' object has no attribute 'grabando'",
     "output_type": "error",
     "traceback": [
      "\u001b[1;31m---------------------------------------------------------------------------\u001b[0m",
      "\u001b[1;31mAttributeError\u001b[0m                            Traceback (most recent call last)",
      "Cell \u001b[1;32mIn[31], line 90\u001b[0m, in \u001b[0;36mgrafico.update_base\u001b[1;34m(self)\u001b[0m\n\u001b[0;32m     89\u001b[0m \u001b[38;5;28;01mdef\u001b[39;00m \u001b[38;5;21mupdate_base\u001b[39m(\u001b[38;5;28mself\u001b[39m): \u001b[38;5;66;03m#temperatura,potencia,velocidad\u001b[39;00m\n\u001b[1;32m---> 90\u001b[0m     \u001b[38;5;28;01mif\u001b[39;00m \u001b[38;5;28;43mself\u001b[39;49m\u001b[38;5;241;43m.\u001b[39;49m\u001b[43mgrabando\u001b[49m \u001b[38;5;241m==\u001b[39m \u001b[38;5;28;01mTrue\u001b[39;00m:\n\u001b[0;32m     91\u001b[0m         txtArduino \u001b[38;5;241m=\u001b[39m s\u001b[38;5;241m.\u001b[39mreadline()\u001b[38;5;241m.\u001b[39mdecode(\u001b[38;5;124m'\u001b[39m\u001b[38;5;124mascii\u001b[39m\u001b[38;5;124m'\u001b[39m)\n\u001b[0;32m     92\u001b[0m         datos \u001b[38;5;241m=\u001b[39m txtArduino\u001b[38;5;241m.\u001b[39msplit(\u001b[38;5;124m\"\u001b[39m\u001b[38;5;124m;\u001b[39m\u001b[38;5;124m\"\u001b[39m)\n",
      "\u001b[1;31mAttributeError\u001b[0m: 'grafico' object has no attribute 'grabando'"
     ]
    }
   ],
   "source": [
    "class grafico(QMainWindow):\n",
    "    def __init__(self, parent=None):\n",
    "        super().__init__()       #iniciar \n",
    "        uic.loadUi(\"interfaz_RC_EMG3.ui\", self) #cargar\n",
    "        \n",
    "        # variables self\n",
    "        #self.temp_label.setText(str(temp_array[-1]))\n",
    "        #self.pwm_label.setText(str(potencia))\n",
    "        #self.velocidad_label.setText(str(rpm))\n",
    "        self.RB = RB\n",
    "        self.RT = RT\n",
    "        self.LB = LB\n",
    "        self.LT = LT\n",
    "        \n",
    "        #Grafico de señales BRAZO DERECHO\n",
    "        self.graphWidget1 = pg.PlotWidget(self.graficoR) \n",
    "        self.graphWidget1.setObjectName(\"graphWidget\")  #permite realizar cambios en sus propiedades\n",
    "        self.gridLayout.addWidget(self.graphWidget1, 1, 1, 1, 1)\n",
    "        \n",
    "        # colocar viñetas a los ejes, graphwidget llama al grafico\n",
    "        self.graphWidget1.plotItem.setLabel('left', 'Signal Righ Arm')\n",
    "        self.graphWidget1.plotItem.setLabel('bottom', 'Tiempo', units='s')\n",
    "        #self.graphWidget1.plotItem.setYRange(20, 34)   #limites eje y\n",
    "        self.graphWidget1.setBackground('k') #cambiar color de fondo\n",
    "t\n",
    "        #Grafico de señales BRAZO IZQUIERDO\n",
    "        self.graphWidget2 = pg.PlotWidge(self.graficoL) \n",
    "        self.graphWidget2.setObjectName(\"graphWidget\")  #permite realizar cambios en sus propiedades\n",
    "        self.gridLayout.addWidget(self.graphWidget2, 1, 1, 1, 1)\n",
    "        \n",
    "        # colocar viñetas a los ejes, graphwidget llama al grafico\n",
    "        self.graphWidget2.plotItem.setLabel('left', 'Signal Left Arm') #units='°c')\n",
    "        self.graphWidget2.plotItem.setLabel('bottom', 'Tiempo', units='s')\n",
    "        self.graphWidget2.plotItem.setYRange(20, 34)   #limites eje y\n",
    "        self.graphWidget2.setBackground('k') #cambiar color de fondo\n",
    "\n",
    "\n",
    "        \n",
    "        self.x = list(range(1,11))  \n",
    "        self.y = RB \n",
    "        \n",
    "        #Generamos el grafico\n",
    "        pen = pg.mkPen(color='purple') #asigna color morado al grafico\n",
    "        self.rightB = self.graphWidget1.plot(self.x, self.RB, pen=pen) #linea principal que genera grafico\n",
    "        \n",
    "        self.filas_csv = []  #guarda filas en csv\n",
    "        #self.tiempo = 0 #Tiempo en milisegundos\n",
    "        \n",
    "        self.seg = 0\n",
    "        self.min = 0\n",
    "        if self.seg<10:\n",
    "            self.seg_str = \"0\"+str(self.seg)\n",
    "        else:\n",
    "            self.seg_str = str(self.seg)\n",
    "        if self.min<10:\n",
    "            self.min_str = \"0\"+str(self.min)\n",
    "        else:\n",
    "            self.min_str = str(self.min)\n",
    "            \n",
    "        self.tiempo = self.min_str + \":\" + self.seg_str\n",
    "    \n",
    "        \n",
    "        self.comando_variable = \"0000000\"#comando\n",
    "        \n",
    "        self.pushButton.clicked.connect(self.comando)\n",
    "        self.pushButton_2.clicked.connect(self.ingresar)  \n",
    "        self.pushButton_3.clicked.connect(self.grabar_base)  #############\n",
    "        self.pushButton_4.setEnabled(False)   #########\n",
    "        self.pushButton_4.clicked.connect(self.detener_base)  ##############\n",
    "        \n",
    "        self.detener_button_2.setEnabled(False)\n",
    "        self.grabar_button_2.clicked.connect(self.grabar)\n",
    "        self.detener_button_2.clicked.connect(self.detener_guardar)  \n",
    "        \n",
    "        self.lcd_tiempo = self.findChild(QLCDNumber, 'lcdNumber')  \n",
    "        self.lcd_potencia = self.findChild(QLCDNumber, 'lcdNumber_2')  \n",
    "        self.lcd_rpm = self.findChild(QLCDNumber, 'lcdNumber_3')\n",
    "        self.lcd_temperatura = self.findChild(QLCDNumber, 'lcdNumber_4')\n",
    "        \n",
    "        self.timer = QtCore.QTimer() #defino un timer\n",
    "        self.timer.setInterval(500) #Tiempo de actualizacion del grafico en ms\n",
    "        self.timer.timeout.connect(self.update_data) #una vez pasa el tiempo manda llamar funcion update_plot_data Es la que actualiza el graficoy controla velocidad\n",
    "        self.timer.start() #reiniciar el timer\n",
    "        \n",
    "        # Configurar el temporizador para calcular la frecuencia y el promedio de temperatura cada 10 segundos\n",
    "        self.timer_base = QtCore.QTimer()\n",
    "        self.timer_base.setInterval(60000)  #1 minuto\n",
    "        self.timer_base.timeout.connect(self.update_base)\n",
    "        self.timer_base.start()\n",
    "        \n",
    "    def grabar_base(self):\n",
    "        self.grabando = True\n",
    "        self.pushButton_4.setEnabled(True)   ##detener\n",
    "        self.pushButton_3.setEnabled(False)  ##grabar\n",
    "        \n",
    "    def detener_base(self):\n",
    "        self.grabando = False\n",
    "        self.pushButton_4.setEnabled(False)\n",
    "        self.pushButton_3.setEnabled(True)\n",
    "    \n",
    "    #Funcion para mysql    \n",
    "    def update_base(self): #temperatura,potencia,velocidad\n",
    "        if self.grabando == True:\n",
    "            txtArduino = s.readline().decode('ascii')\n",
    "            datos = txtArduino.split(\";\")\n",
    "            temp = datos[0]\n",
    "            potencia = datos[1]\n",
    "            rpm = datos[2]\n",
    "            verde = datos[3]\n",
    "            amarillo = datos[4]\n",
    "            rojo = datos[5]\n",
    "        \n",
    "            con = mysql.connect(host = \"localhost\", user = \"root\", database = \"base_datos_incubadora\")\n",
    "            cur = con.cursor()\n",
    "            query=\"INSERT INTO registro_incubadora(id,Temperatura,Potencia,Velocidad,Alarma_VERDE,Alarma_AMARILLA,Alarma_ROJA) VALUES('','%s','%s','%s','%s','%s','%s')\" % (''.join(str(temp)+\"°C\"),''.join(str(potencia)+\"W\"),''.join(str(rpm)+\"RPM\"),''.join(verde),''.join(amarillo),''.join(rojo)) \n",
    "        \n",
    "            cur.execute(query) \n",
    "            con.commit()\n",
    "            con.close()\n",
    "        \n",
    "    #Funcion para actualizar los datos    \n",
    "    def update_data(self):\n",
    "        txtArduino = s.readline().decode('ascii')\n",
    "        datos = txtArduino.split(\";\")\n",
    "        temp = datos[0]\n",
    "        potencia = datos[1]\n",
    "        rpm = datos[2]\n",
    "        \n",
    "        self.temp_label.setText(str(temp))\n",
    "        self.pwm_label.setText(str(potencia))\n",
    "        self.velocidad_label.setText(str(rpm))\n",
    "        \n",
    "        #OJO guarda muchos datos puede haber problema de memoria\n",
    "        self.filas_csv.append([self.tiempo,float(temp),float(potencia),float(rpm)])\n",
    "        \n",
    "        ####TIEMPOOOOO\n",
    "        if self.seg+1==60:\n",
    "            self.seg =0\n",
    "            self.min+=1\n",
    "        else:\n",
    "            self.seg +=1\n",
    "            \n",
    "        ##string de minutos\n",
    "        if self.seg<10:\n",
    "            self.seg_str = \"0\"+str(self.seg)\n",
    "        else:\n",
    "            self.seg_str = str(self.seg)\n",
    "        if self.min<10:\n",
    "            self.min_str = \"0\"+str(self.min)\n",
    "        else:\n",
    "            self.min_str = str(self.min)\n",
    "            \n",
    "        self.tiempo = self.min_str + \":\" + self.seg_str\n",
    "        \n",
    "        #self.tiempo = self.tiempo + 1 .-########################################################################################\n",
    "        ##################################################interfaz 2\n",
    "        self.lcd_tiempo.display(self.tiempo)\n",
    "        self.lcd_potencia.display(potencia)\n",
    "        self.lcd_rpm.display(float(rpm))\n",
    "        self.lcd_temperatura.display(float(temp))\n",
    "        \n",
    "        self.x = self.x[1:]  # Elimina primer elemento de x\n",
    "        self.x.append(self.x[-1] + 1) \n",
    "        \n",
    "        self.y = self.y[1:]  # Elimina primer elemento de y\n",
    "        self.y = np.append(self.y,float(temp))\n",
    "        self.data_line.setData(self.x, self.y) \n",
    "\n",
    "    def comando(self):\n",
    "        self.comando_variable = self.linea_comando.text()\n",
    "        s.write(self.comando_variable.encode('ascii'))\n",
    "                \n",
    "    def grabar(self):\n",
    "        self.detener_button_2.setEnabled(True)\n",
    "        self.grabar_button_2.setEnabled(False)\n",
    "        self.filas_csv = [] ###Reinicia lista para comenzar a registrar cuando se presiona boton\n",
    "        self.tiempo = 0\n",
    "        \n",
    "    def detener_guardar(self):\n",
    "        self.grabar_button_2.setEnabled(True)\n",
    "        self.detener_button_2.setEnabled(False)\n",
    "        nombre_csv = self.nombre_csv_2.text() + \".csv\"\n",
    "        \n",
    "        with open(nombre_csv,\"w\",newline='') as csvfile:\n",
    "            writer = csv.writer(csvfile, delimiter=';')\n",
    "            writer.writerow([\"tiempo\",\"temperatura\",\"Potencia\",\"RPM\"])\n",
    "            writer.writerows(self.filas_csv)\n",
    "            \n",
    "    def ingresar(self):\n",
    "        #self.data_line = self.graphWidget.plot(self.x, self.y, pen=pg.mkPen('m'))  # Agrega una nueva línea de Tref\n",
    "        self.Tref = self.lineEdit.text()\n",
    "        s.write(self.Tref.encode('ascii'))\n",
    "        #self.tiempo = 0\n",
    "        self.seg = 0\n",
    "        self.min = 0\n",
    "    \n",
    "if __name__ == \"__main__\":\n",
    "    app = QApplication(sys.argv)\n",
    "    myapp = grafico() #myapp ejecuta la clase que estas haciendo\n",
    "    myapp.show() #hasta el show es por pauta, por definición\n",
    "    app.aboutToQuit.connect(app.deleteLater)   #Estas dos lineas permite cerrar adecuadamente la aplicacion\n",
    "    app.exec_()"
   ]
  },
  {
   "cell_type": "code",
   "execution_count": 9,
   "id": "207baf14",
   "metadata": {},
   "outputs": [],
   "source": [
    "s.close()"
   ]
  }
 ],
 "metadata": {
  "kernelspec": {
   "display_name": "Python 3 (ipykernel)",
   "language": "python",
   "name": "python3"
  },
  "language_info": {
   "codemirror_mode": {
    "name": "ipython",
    "version": 3
   },
   "file_extension": ".py",
   "mimetype": "text/x-python",
   "name": "python",
   "nbconvert_exporter": "python",
   "pygments_lexer": "ipython3",
   "version": "3.11.7"
  }
 },
 "nbformat": 4,
 "nbformat_minor": 5
}
